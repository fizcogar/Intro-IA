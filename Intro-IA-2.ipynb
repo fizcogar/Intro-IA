{
 "cells": [
  {
   "cell_type": "markdown",
   "metadata": {
    "slideshow": {
     "slide_type": "slide"
    }
   },
   "source": [
    "# Introducción a la Inteligencia Artificial\n",
    "\n",
    "\n",
    "<img src=\"images/Cartoon_Robot.svg.png\" width=\"200\"/>\n",
    "\n",
    "---\n",
    "Fernando Izco García  (fernando.izco.garcia@navarra.es)  \n",
    " Servicio de Avance Digital  \n",
    " Dirección General de Telecomunicaciones y Digitalización  \n",
    "<img src=\"images/logo.gn.png\" width=\"300\"/>"
   ]
  },
  {
   "cell_type": "markdown",
   "metadata": {
    "slideshow": {
     "slide_type": "slide"
    }
   },
   "source": [
    "# Introducción a la Inteligencia Artificial\n",
    "\n",
    "1. Primera parte\n",
    "    1. [Un ejemplo como introducción](Intro-IA-1.ipynb)\n",
    "    1. **Definición y casos de uso**\n",
    "1. Segunda parte\n",
    "    1. [Claves del aprendizaje supervisado](Intro-IA-3.ipynb)\n",
    "    1. [Claves del aprendizaje profundo](Intro-IA-4.ipynb)\n",
    "    1. [Ética e IA](Intro-IA-5.ipynb)\n",
    "\n",
    "\n",
    "[<img src=\"images/youtube.png\" width=\"30\"  align=\"left\"/>](https://youtu.be/zdvR8Oaapyw)\n",
    "[Video de este capítulo en YouTube](https://youtu.be/zdvR8Oaapyw)"
   ]
  },
  {
   "cell_type": "markdown",
   "metadata": {
    "slideshow": {
     "slide_type": "slide"
    }
   },
   "source": [
    "# Definición de inteligencia artificial\n",
    "\n",
    "## Cualquier **proceso automático** que resuelva un problema reservado, en principio, a **animales superiores**, es inteligencia artificial.\n",
    "\n",
    "---\n",
    "  \n",
    "<img src=\"images/dijkstra.jpg\" width=\"800\"/>\n"
   ]
  },
  {
   "cell_type": "markdown",
   "metadata": {
    "nbpresent": {
     "id": "c03a1e0a-7216-4153-b942-9bf744018b38"
    },
    "slideshow": {
     "slide_type": "notes"
    }
   },
   "source": [
    "# Definición de inteligencia artificial\n",
    "\n",
    "Sin entrar en filosofía, **cualquier proceso automático que resuelva un problema reservado a *animales superiores***, es inteligencia artificial.\n",
    "\n",
    "Es una definición **muy ambigua** \n",
    "\n",
    "Por ejemplo:\n",
    "* Predecir el precio futuro de una botella de vino joven\n",
    "* Encontrar la mejor ruta por carretera entre dos puntos\n",
    "* Jugar al ajedrez\n",
    "* Traducir textos entre dos idiomas\n",
    "* Generar texto a partir de áudio\n",
    "* Diagnosticar el grado de retinopatía de un diabético a partir de retinografías\n",
    "* Conducir un automóvil\n",
    "\n",
    "La cita de Dijkstra viene a decir que discutir sobre si un ordenador puede o no pensar es irrelevante, aquí estamos para resolver problemas :)"
   ]
  },
  {
   "cell_type": "markdown",
   "metadata": {
    "nbpresent": {
     "id": "c77c2be8-60c8-4b42-9dc4-d71498a3a9ab"
    },
    "slideshow": {
     "slide_type": "skip"
    }
   },
   "source": [
    "# Casos de uso. Tipología.\n",
    "\n",
    "Hay muchas formas de clasificar casos de uso de IA. Por ejemplo:\n",
    "* Si se basa en el **entrenamiento** de un **modelo** a partir de un conjunto de datos o se basa en programación *tradicional*\n",
    "* Si los datos para el entrenamiento incluyen el **objetivo**\n",
    "* Si el objetivo es \n",
    "    * Un valor contínuos (p.e. un precio)\n",
    "    * O una clasificación\n",
    "    * O algo más complejo\n",
    "* En función del **formato** de los datos (gráficos, lenguaje natural, datos tabulares ...)\n",
    "* En función de la **complejidad** de los problemas que se pueden resolver\n"
   ]
  },
  {
   "cell_type": "markdown",
   "metadata": {
    "slideshow": {
     "slide_type": "slide"
    }
   },
   "source": [
    "## Navegación para automóviles vs Predicción del precio del vino\n",
    "---\n",
    "\n",
    "|   Navegación para automóvil | Predicción del precio del vino |\n",
    "|-------------| -------------- |\n",
    "| <img src=\"images/google-maps-navigation.png\" width=\"800\"/> | <img src=\"images/wines.priced.jpg\" width=\"800\"/> |\n"
   ]
  },
  {
   "cell_type": "markdown",
   "metadata": {
    "slideshow": {
     "slide_type": "slide"
    }
   },
   "source": [
    "## Navegación para automóviles vs Predicción del precio del vino\n",
    "---\n",
    "\n",
    "\n",
    "|   Navegación para automóvil | Predicción del precio del vino |\n",
    "|-------------| -------------- |\n",
    "| <img src=\"images/google-maps-navigation.png\" width=\"400\"/> | <img src=\"images/wines.priced.jpg\" width=\"400\"/> |\n",
    "\n",
    "### Programación tradicional vs aprendizaje máquina\n",
    "\n",
    "En los casos como el de la navegación para automóviles, el programador:\n",
    "* Tiene que saber exactamente cómo se resuelve el problema\n",
    "* Y traducir ese conocimiento a un lenguaje de programación.\n",
    "\n",
    "En un sistema de aprendizaje máquina \n",
    "* El sistema no se programa, se entrena **de una manera semejante a cómo aprendemos los humanos**\n"
   ]
  },
  {
   "cell_type": "markdown",
   "metadata": {
    "slideshow": {
     "slide_type": "slide"
    }
   },
   "source": [
    "### Aprendizaje máquina\n",
    "---\n",
    "\n",
    "\n",
    "<img src=\"images/ferchiqui-color.png\" width=\"1000\"/>"
   ]
  },
  {
   "cell_type": "markdown",
   "metadata": {
    "slideshow": {
     "slide_type": "notes"
    }
   },
   "source": [
    "### Programación tradicional vs aprendizaje máquina\n",
    "\n",
    "En los casos como el de la navegación para automóviles, el programador:\n",
    "* Tiene que saber exactamente cómo se resuelve el problema\n",
    "* Y traducir ese conocimiento a un lenguaje de programación.\n",
    "\n",
    "En un sistema de aprendizaje máquina \n",
    "* El sistema no se programa, se entrena **de una manera semejante a cómo aprendemos los humanos**\n",
    "    * Necesitamos **'repasar'** muchas veces los apuntes\n",
    "        * **Iteraciones** sobre los datos de entrenamiento\n",
    "    * No los aprendemos de memoria, extraemos **'la esencia'**\n",
    "        * aprendemos **patrones**\n",
    "        \n",
    "Hoy en día (según la def. de inteligencia artificial) cuando se habla de IA, se está hablando de **Aprendizaje máquina**"
   ]
  },
  {
   "cell_type": "markdown",
   "metadata": {
    "slideshow": {
     "slide_type": "slide"
    }
   },
   "source": [
    "## Predicción del precio del vino vs Detección de anomalías\n",
    "---\n",
    "\n",
    "| Predicción precio vino | Detección anomalías |\n",
    "| -------------|--------------|\n",
    "|<img src=\"images/wines.priced.jpg\" width=\"800\"/>|<img src=\"images/outlier.jpg\" width=\"800\"/>|"
   ]
  },
  {
   "cell_type": "markdown",
   "metadata": {
    "slideshow": {
     "slide_type": "slide"
    }
   },
   "source": [
    "## Aprendizaje (máquina) supervisado vs aprendizaje (máquina) no supervisado\n",
    "---\n",
    "\n",
    "| Predicción precio vino | Detección anomalías |\n",
    "| -------------|--------------|\n",
    "|<img src=\"images/wines.priced.jpg\" width=\"500\"/>|<img src=\"images/outlier.jpg\" width=\"500\"/>|\n",
    "\n",
    "Si los datos para el entrenamiento incluyen la solución, el objetivo (el precio del vino)\n",
    "* Aprendizaje máquina **supervisado**\n",
    "\n",
    "Si no incluyen un objetivo\n",
    "* Aprendizaje (máquina) **no supervisado**"
   ]
  },
  {
   "cell_type": "markdown",
   "metadata": {
    "slideshow": {
     "slide_type": "notes"
    }
   },
   "source": [
    "## Si los datos para el entrenamiento incluyen la solución, el objetivo\n",
    "\n",
    "En el caso de la predicción del precio del vino \n",
    "* El objetivo es claro, predecir el precio, \n",
    "* Y los datos de entrenamiento del Profesor **incluían los precios** de los vinos.\n",
    "\n",
    "Es lo que se denomina **aprendizaje máquina supervisado** o simplemente aprendizaje supervisado.\n",
    "\n",
    "Este tipo de IA\n",
    "* Es el que mejores resultados está dando actualmente.\n",
    "* Conseguir un buen conjunto de datos de entrenamiento puede ser complicado\n",
    "    * Por ejemplo, porque implique la participación de expertos de *negocio*\n",
    "\n",
    "## Si los datos para el entrenamiento no incluyen un objetivo\n",
    "\n",
    "Otra aproximación totalmente distinta es \n",
    "* Partir de un conjunto de datos sin *etiquetar*\n",
    "* Dejar que el modelo de **aprendizaje máquina no supervisado** busque patrones por su cuenta. \n",
    "\n",
    "\n",
    "Por ejemplo, encontrar **anomalías** en un conjunto de datos\n",
    "\n",
    "https://www.coursera.org/learn/machine-learning/home/week/8\n",
    "\n"
   ]
  },
  {
   "cell_type": "markdown",
   "metadata": {
    "slideshow": {
     "slide_type": "slide"
    }
   },
   "source": [
    "## Predicción del precio del vino vs Clasificación de fotos de animales\n",
    "\n",
    "|  Predicción precio vino | Clasificación fotos animales   |\n",
    "| -------------|--------------|\n",
    "|<img src=\"images/wines.priced.jpg\" width=\"800\"/>|<img src=\"images/imagenet-sample.png\" width=\"800\"/>|"
   ]
  },
  {
   "cell_type": "markdown",
   "metadata": {
    "slideshow": {
     "slide_type": "slide"
    }
   },
   "source": [
    "## Predicción del precio del vino vs Clasificación de fotos de animales\n",
    "\n",
    "\n",
    "|  Predicción precio vino | Clasificación fotos animales   |\n",
    "| -------------|--------------|\n",
    "|<img src=\"images/wines.priced.jpg\" width=\"400\"/>|<img src=\"images/imagenet-sample.png\" width=\"400\"/>|\n",
    "\n",
    "### Regresión vs Clasificación\n",
    "* En un problema de **regresión** el resultado es un valor contínuo (un número, como el precio del vino)\n",
    "* En un problema de **clasificación** el resultado es un valor discreto:\n",
    "    * la clase a la que pertenece el dato de entrada"
   ]
  },
  {
   "cell_type": "markdown",
   "metadata": {
    "slideshow": {
     "slide_type": "notes"
    }
   },
   "source": [
    "## Clasificación\n",
    "\n",
    "Es un caso de uso muy exitoso. Cada ejemplo tiene asociada una (o varias) etiquetas que lo clasifica\n",
    "\n",
    "Las fotos son de ImageNet http://www.image-net.org/\n",
    "\n",
    "El proyecto ImageNet es una gran base de datos visual diseñada para su uso en la investigación de software de reconocimiento de objetos visuales. Actualmente incluye **más de 14 millones de imágenes** clasificadas"
   ]
  },
  {
   "cell_type": "markdown",
   "metadata": {
    "slideshow": {
     "slide_type": "slide"
    }
   },
   "source": [
    "## Predicción del precio del vino vs localización de objetos en una fotografía satélite\n",
    "\n",
    "\n",
    "| Predicción precio vino | Localización objetos foto satélite |\n",
    "| -------------|--------------|\n",
    "|<img src=\"images/wines.priced.jpg\" width=\"800\"/>|<img src=\"images/yolo1.png\" width=\"700\"/>|\n",
    "\n"
   ]
  },
  {
   "cell_type": "markdown",
   "metadata": {
    "slideshow": {
     "slide_type": "slide"
    }
   },
   "source": [
    "## Predicción del precio del vino vs localización de objetos en una fotografía satélite\n",
    "\n",
    "| Predicción precio vino | Localización objetos foto satélite |\n",
    "| -------------|--------------|\n",
    "|<img src=\"images/wines.priced.jpg\" width=\"300\"/>|<img src=\"images/yolo1.png\" width=\"300\"/>|\n",
    "\n",
    "\n",
    "Los dos son problemas de **Regresión**\n",
    "* En el primero, la salida es un único número real (precio)\n",
    "* En el segundo, un conjunto de números reales (coordenadas)\n",
    "\n",
    "Los datos de entrada son de diferente tipo\n",
    "* En el primero son **datos tabulares** (la tabla con datos meteorológicos y precios)\n",
    "* En el segundo, fotografías de satélite: **Imagen Digital, Visión Artificial**"
   ]
  },
  {
   "cell_type": "markdown",
   "metadata": {
    "slideshow": {
     "slide_type": "slide"
    }
   },
   "source": [
    "## This person does not exist \n",
    "\n",
    "<img src=\"images/notexist.png\" width=\"1200\"/>\n",
    "\n",
    "https://www.thispersondoesnotexist.com/\n"
   ]
  },
  {
   "cell_type": "markdown",
   "metadata": {
    "slideshow": {
     "slide_type": "slide"
    }
   },
   "source": [
    "## Modelo Generativo\n",
    "\n",
    "<img src=\"images/notexist.png\" style=\"width: 600px;\"/>\n",
    "\n",
    "https://www.thispersondoesnotexist.com/\n",
    "\n",
    "Es un **Modelos generativo**\n",
    "* La variable de salida es tan compleja como los datos de entrenamiento"
   ]
  },
  {
   "cell_type": "markdown",
   "metadata": {
    "slideshow": {
     "slide_type": "notes"
    }
   },
   "source": [
    "## Si el objetivo es complejo\n",
    "\n",
    "El objetivo también puede ser algo más complejo, como por ejemplo, una imagen completa, o incluso un video. En este caso estamos hablando de **Modelos generativos**\n",
    "\n",
    "El objetivo, la variable de salida tiene tantas dimensiones como las variables de entrada: se entrena con imágenes y produce imágenes."
   ]
  },
  {
   "cell_type": "markdown",
   "metadata": {
    "slideshow": {
     "slide_type": "slide"
    }
   },
   "source": [
    "## Diagnóstico de retinopatía vs Filtro de spam vs Detección de transacciones bancarias fraudulentas\n",
    "\n",
    "<img src=\"images/formatos.png\" width=\"3000\"/>"
   ]
  },
  {
   "cell_type": "markdown",
   "metadata": {
    "slideshow": {
     "slide_type": "slide"
    }
   },
   "source": [
    "## Imagen digital vs Proceso de lenguaje natural vs Datos tabulares\n",
    "\n",
    "<img src=\"images/formatos.png\" width=\"1500\"/>\n",
    "\n",
    "Los tres son problemas de **clasificación**, se diferencian en el tipo de datos de entrada\n",
    "* Clasificar retinografías entre sanas o con retinopatía\n",
    "    * Imagen digital\n",
    "* Clasificar los e-mail entre legítimos o *spam*\n",
    "    * Procesado de Lenguaje Natural (NLP en inglés)\n",
    "* Clasificar las transacciones entre legítimas o fraudulentas\n",
    "    * Datos tabulares\n"
   ]
  },
  {
   "cell_type": "markdown",
   "metadata": {
    "slideshow": {
     "slide_type": "notes"
    }
   },
   "source": [
    "## ¿Cual es el formato de los datos?\n",
    "\n",
    "Hablaremos de:\n",
    "\n",
    "* **Visión artificial** para imágenes o video\n",
    "* **Lenguaje Natural** para tratamiento de texto (NLP)\n",
    "* **Modelos Tabulares** para tablas de datos\n",
    "\n",
    "El formato suele influir en la elección del modelo.\n",
    "* Por ejmplo, la visión artificial, por su complejidad, exige modelos basados en **redes neuronales**"
   ]
  },
  {
   "cell_type": "markdown",
   "metadata": {
    "slideshow": {
     "slide_type": "slide"
    }
   },
   "source": [
    "## Predicción del precio del vino vs todos estos\n",
    "---\n",
    "\n",
    "|Predicción precio vino|Clasificación fotos animales|Localización fotos satélite|https://www.thispersondoesnotexist.com/| Retinopatía|\n",
    "| -------------|--------------|-------------|--------------|-------------|\n",
    "|<img src=\"images/wines.priced.jpg\"/>|<img src=\"images/imagenet-sample.png\"/>|<img src=\"images/yolo1.png\"/>|<img src=\"images/notexist.png\"/>|<img src=\"images/retinografia.jpg\">|\n"
   ]
  },
  {
   "cell_type": "markdown",
   "metadata": {
    "slideshow": {
     "slide_type": "slide"
    }
   },
   "source": [
    "## Predicción del precio del vino vs ...\n",
    "---\n",
    "\n",
    "\n",
    "|Predicción precio vino|Clasificación fotos animales|Localización fotos satélite|https://www.thispersondoesnotexist.com/ |Retinopatía|\n",
    "| -------------|--------------|-------------|--------------|-------------|\n",
    "|<img src=\"images/wines.priced.jpg\"/>|<img src=\"images/imagenet-sample.png\"/>|<img src=\"images/yolo1.png\"/>|<img src=\"images/notexist.png\"/>|<img src=\"images/retinografia.jpg\">|\n",
    "\n",
    "\n",
    "|Aprendizaje máquina|Aprendizaje (máquina) profundo|\n",
    "| -------------|--------------|\n",
    "|$\\hat y = \\alpha_0 + \\alpha_1 \\cdot  x_1 + \\alpha_2 \\cdot x_2 + \\cdot\\cdot\\cdot + \\alpha_n \\cdot  x_n$|<img src=\"images/nn.png\" width=\"400\">|"
   ]
  },
  {
   "cell_type": "markdown",
   "metadata": {
    "slideshow": {
     "slide_type": "notes"
    }
   },
   "source": [
    "## ¿Cual es el grado de complejidad del problema que queremos resolver?\n",
    "\n",
    "Los problemas especialmente complejos se resuelven con un tipo de aprendizaje máquina muy especial: el **aprendizaje profundo**\n",
    "\n",
    "El **aprendizaje profundo** es la feliz conjunción de tres hechos:\n",
    "* El descubrimiento de modelos que pueden aprender mucho si hay suficientes datos\n",
    "* Una gran cantidad de datos disponibles\n",
    "* Potencia de cálculo suficiente a precios asequibles\n",
    "\n",
    "El modelo, en estos casos, es alguna arquitectura basada en **redes neuronales**.\n"
   ]
  },
  {
   "cell_type": "markdown",
   "metadata": {
    "slideshow": {
     "slide_type": "slide"
    }
   },
   "source": [
    "## Resumiendo\n",
    "\n",
    "* En cuanto al entrenamiento\n",
    "    * Si lo hay: **aprendizaje máquina**\n",
    "    * si no: programación tradicional\n",
    "* En cuanto a si los datos de entrenamiento incluyen el objetivo\n",
    "    * Si lo incluyen: aprendizaje (máquina) **supervisado**\n",
    "    * Si no, aprendizaje (máquina) **no supervisado**\n",
    "* Dentro del aprendizaje supervisado, \n",
    "    * Si el objetivo es un conjunto de valores contínuos (números) es **regresión**\n",
    "    * Si el objetivo es una clasificación, es, eso, **clasificación**\n",
    "* En cuanto al formato de los datos\n",
    "    * Si son imágenes o video, **visión artificial**\n",
    "    * Si es lenguaje humano, **lenguaje natural (NLP)**\n",
    "    * Si son tablas de datos, **modelos tabulares**\n",
    "* En cuanto a la complejidad de los problemas a resover\n",
    "    * Si son especialmente complejos, **aprendizaje profundo**"
   ]
  },
  {
   "cell_type": "markdown",
   "metadata": {
    "slideshow": {
     "slide_type": "slide"
    }
   },
   "source": [
    "   \n",
    "## Claves\n",
    "* Determinados problemas se resuelven mejor con determinados modelos\n",
    "* Para elegir: experiencias previas y experimentación\n",
    "* Las redes neuronales se usan ya para casi todo\n",
    "    <img src=\"images/navaja.jpg\" width=\"400\"/>\n",
    "    "
   ]
  },
  {
   "cell_type": "markdown",
   "metadata": {
    "slideshow": {
     "slide_type": "slide"
    }
   },
   "source": [
    "## Más casos de uso de IA\n",
    "\n",
    "Vamos a ver más casos y tratemos de clasificarlos:\n",
    "* En cuanto al entrenamiento\n",
    "* En cuanto a si los datos de entrenamiento incluyen el objetivo\n",
    "* Si el objetivo es un conjunto de valores contínuos o una clasificación\n",
    "* En cuanto al formato de los datos\n",
    "* En cuanto a la complejidad del problema a resolver"
   ]
  },
  {
   "cell_type": "markdown",
   "metadata": {
    "slideshow": {
     "slide_type": "slide"
    }
   },
   "source": [
    "## Ajedrez, 1996\n",
    "\n",
    "1. ¿Es aprendizaje máquina?\n",
    "1. ¿Es aprendizaje profundo?\n",
    "\n",
    "<img src=\"images/DeepBlue.png\" width=\"1400\"/>"
   ]
  },
  {
   "cell_type": "markdown",
   "metadata": {
    "slideshow": {
     "slide_type": "slide"
    }
   },
   "source": [
    "## Ajedrez, 1996\n",
    "\n",
    "<img src=\"images/DeepBlue.png\" width=\"700\"/>\n",
    "\n",
    "Deep blue es **programación tradicional**\n",
    "* Búsqueda en árbol (fuerza bruta)\n",
    "* Reglas programadas por expertos ajedrecistas (heurística)"
   ]
  },
  {
   "cell_type": "markdown",
   "metadata": {
    "slideshow": {
     "slide_type": "slide"
    }
   },
   "source": [
    "## Encontrar conjuntos de clientes con características similares\n",
    "\n",
    "A partir de los **datos de ventas**, para orientar las campañas de márqueting\n",
    "\n",
    "1. ¿Es aprendizaje supervisado o no supervisado?\n",
    "\n",
    "<img src=\"images/clustering.png\" width=\"1200\"/>\n"
   ]
  },
  {
   "cell_type": "markdown",
   "metadata": {
    "slideshow": {
     "slide_type": "slide"
    }
   },
   "source": [
    "## Segmentación (*'clustering'*)\n",
    "\n",
    "<img src=\"images/clustering.png\" width=\"600\"/>\n",
    "\n",
    "Es aprendizaje máquina **no supervisado**\n",
    "* Los datos de entrenamiento no incluyen el objetivo\n",
    "\n",
    "Otras aplicaciones:  \n",
    "* Clasificar el tráfico en una red\n",
    "* Clasificar usuarios de un sitio Web\n",
    "* Segmentación de ventas en grandes superficies"
   ]
  },
  {
   "cell_type": "markdown",
   "metadata": {
    "slideshow": {
     "slide_type": "notes"
    }
   },
   "source": [
    "Un famoso caso (y falso, hasta donde yo sé) de **segmentación de ventas**: Wal-Mart descubrió con esta técnica que, en determinados establecimientos, los viernes, muchos clientes compraban cerveza, pañales y DVDs: padres y madres jóvenes, que no podían salir el fin de semana."
   ]
  },
  {
   "cell_type": "markdown",
   "metadata": {
    "slideshow": {
     "slide_type": "slide"
    }
   },
   "source": [
    "## Identificación de piezas defectuosas\n",
    "\n",
    "1. ¿Es aprendizaje máquina?\n",
    "1. ¿Es aprendizaje supervisado o no supervisado?\n",
    "1. ¿Es regresión o clasificación?\n",
    "1. ¿En cuanto al tipo de datos?\n",
    "1. ¿Es aprendizaje profundo?\n",
    "\n",
    "<img src=\"images/vision-artificial.jpg\" width=\"800\"/>\n",
    "\n",
    "\n"
   ]
  },
  {
   "cell_type": "markdown",
   "metadata": {
    "slideshow": {
     "slide_type": "slide"
    }
   },
   "source": [
    "## Identificación de piezas defectuosas\n",
    "\n",
    "<img src=\"images/vision-artificial.jpg\" width=\"400\"/>\n",
    "\n",
    "1. Es aprendizaje máquina\n",
    "1. Supervisado\n",
    "1. Clasificación (defectuoso o no)\n",
    "1. Es imagen digital\n",
    "1. Probablemente, aprendizaje profundo\n",
    "\n",
    "\n"
   ]
  },
  {
   "cell_type": "markdown",
   "metadata": {
    "slideshow": {
     "slide_type": "slide"
    }
   },
   "source": [
    "##  Detección de objetos en tiempo real\n",
    "\n",
    "1. ¿Es regresión o clasificación?\n",
    "\n",
    "<img src=\"images/yolo.gif\" style=\"width: 1000px;\"/>\n"
   ]
  },
  {
   "cell_type": "markdown",
   "metadata": {
    "slideshow": {
     "slide_type": "slide"
    }
   },
   "source": [
    "##  Detección de objetos en tiempo real\n",
    "\n",
    "<img src=\"images/yolo.gif\" width=\"500\"/>\n",
    "\n",
    "* Es **regresión** (la salida incluye las coordenadas de las localizaciones)\n",
    "* Pero es **también clasificación**, porque la salida incluye una etiqueta, una clase de objeto (persona, motocicleta, camión)"
   ]
  },
  {
   "cell_type": "markdown",
   "metadata": {
    "slideshow": {
     "slide_type": "slide"
    }
   },
   "source": [
    "## Sistemas de recomendaciones\n",
    "\n",
    "1. ¿Es aprendizaje supervisado o no supervisado?\n",
    "\n",
    "<img src=\"images/kaggle-netflix.png\" width=\"800\"/>\n",
    "\n"
   ]
  },
  {
   "cell_type": "markdown",
   "metadata": {
    "slideshow": {
     "slide_type": "slide"
    }
   },
   "source": [
    "## Sistemas de recomendaciones\n",
    "\n",
    "<img src=\"images/kaggle-netflix.png\" style=\"width: 400px;\"/>\n",
    "\n",
    "Es aprendizaje **no supervisado**. Puede entenderse como un problema de **segmentación**: en función de las puntuaciones que un usuario da a las películas que ve, se le clasifica en el mismo segmento que otros usuarios que han dado puntuaciones similares, y se le recomiendan las películas que más han gustado a esos usuarios.\n"
   ]
  },
  {
   "cell_type": "markdown",
   "metadata": {
    "slideshow": {
     "slide_type": "slide"
    }
   },
   "source": [
    "## Traducción entre idiomas\n",
    "\n",
    "1. ¿Es aprendizaje supervisado o no supervisado?\n",
    "\n",
    "<img src=\"images/translator.png\" width=\"1000\"/>\n"
   ]
  },
  {
   "cell_type": "markdown",
   "metadata": {
    "slideshow": {
     "slide_type": "slide"
    }
   },
   "source": [
    "## Traducción entre idiomas\n",
    "\n",
    "<img src=\"images/translator.png\" width=\"500\"/>\n",
    "\n",
    "Es aprendizaje supervisado: se entrenan con grandes cantidades de textos traducidos.\n",
    "\n",
    "Pero hay nuevas aproximaciones no supervisadas, \n",
    "\n",
    "\n",
    "https://engineering.fb.com/ai-research/unsupervised-machine-translation-a-novel-approach-to-provide-fast-accurate-translations-for-more-languages/\n"
   ]
  },
  {
   "cell_type": "markdown",
   "metadata": {
    "slideshow": {
     "slide_type": "slide"
    }
   },
   "source": [
    "## Enlazado de registros (Record Linkage)\n",
    "\n",
    "1. ¿Es aprendizaje supervisado o no supervisado?\n",
    "\n",
    "<img src=\"images/enlazado.registros.png\" width=\"800\"/>\n"
   ]
  },
  {
   "cell_type": "markdown",
   "metadata": {
    "slideshow": {
     "slide_type": "notes"
    }
   },
   "source": [
    "Es un problema muy común:\n",
    "* Tenemos dos o más bases de datos del mismo tipo de entidad (por ejemplo, personas), sin una clave única que las relaciones\n",
    "* Queremos poder relacionarlas, saber si un registro de una de las bases de datos se corresponde con otro registro de la otra (por ejemplo, si se refieren a la misma persona)\n",
    "\n",
    "Es **aprendizaje supervisado**, aprende con ejemplos de registros enlazados y registros no enlazados"
   ]
  },
  {
   "cell_type": "markdown",
   "metadata": {
    "slideshow": {
     "slide_type": "slide"
    }
   },
   "source": [
    "## Segmentación de imagen\n",
    "\n",
    "1. ¿Es un problema de  clasificación?\n",
    "\n",
    "<img src=\"images/image-segmentation.png\" width=\"800\"/>\n",
    "\n",
    "<img src=\"images/medical-segmentation.jpeg\" width=\"300\"/>\n"
   ]
  },
  {
   "cell_type": "markdown",
   "metadata": {
    "slideshow": {
     "slide_type": "notes"
    }
   },
   "source": [
    "La segmentación de imagen es un problema de clasificación llevado al extremo: los ejemplos son imágenes con **cada pixel clasificado**"
   ]
  },
  {
   "cell_type": "markdown",
   "metadata": {
    "slideshow": {
     "slide_type": "slide"
    }
   },
   "source": [
    "## Coloreado de imágenes en blanco y negro\n",
    "\n",
    "\"Migrant Mother\" by Dorothea Lange (1936)\n",
    "<img src=\"https://camo.githubusercontent.com/cf0b5cd16cd934cba884172370a78b40b28db00a/68747470733a2f2f692e696d6775722e636f6d2f427430766e6b652e6a7067\" width=\"1000\"/>\n",
    "\n",
    "https://github.com/jantic/DeOldify"
   ]
  },
  {
   "cell_type": "markdown",
   "metadata": {
    "slideshow": {
     "slide_type": "notes"
    }
   },
   "source": [
    "Esto es un ejemplo de un **Modelo generativo**"
   ]
  },
  {
   "cell_type": "markdown",
   "metadata": {
    "slideshow": {
     "slide_type": "slide"
    }
   },
   "source": [
    "## DeOldify, hazlo tu mismo\n",
    "\n",
    "Podéis colorear vuestras propias fotos, si aprendéis a usar un cuaderno *Jupyter*\n",
    "\n",
    "| Original|Coloreada por https://github.com/jantic/DeOldify |\n",
    "| - | - |\n",
    "|<img src=\"images/ferchiqui-bn.png\" width=\"500\"/>|<img src=\"images/ferchiqui-color.png\" width=\"500\"/>|\n"
   ]
  },
  {
   "cell_type": "markdown",
   "metadata": {
    "slideshow": {
     "slide_type": "slide"
    }
   },
   "source": [
    "## Los famosos *Deep Fakes*\n",
    "\n",
    "Otro ejemplo de **modelo generativo**\n",
    "\n",
    "El siguiente video es un *deep fake* de una entrevista al actor Bill Hader en la que cuenta cómo fue trabajar con una superestrella como Tom Cruise.\n",
    "\n",
    "Atentos, porque la *falsificación* es sútil ..."
   ]
  },
  {
   "cell_type": "code",
   "execution_count": 1,
   "metadata": {
    "slideshow": {
     "slide_type": "-"
    }
   },
   "outputs": [
    {
     "data": {
      "image/jpeg": "[encoded data removed]",
      "text/html": [
       "\n",
       "        <iframe\n",
       "            width=\"400\"\n",
       "            height=\"300\"\n",
       "            src=\"https://www.youtube.com/embed/VWrhRBb-1Ig\"\n",
       "            frameborder=\"0\"\n",
       "            allowfullscreen\n",
       "        ></iframe>\n",
       "        "
      ],
      "text/plain": [
       "<IPython.lib.display.YouTubeVideo at 0x23c749a32b0>"
      ]
     },
     "execution_count": 1,
     "metadata": {},
     "output_type": "execute_result"
    }
   ],
   "source": [
    "from IPython.display import YouTubeVideo\n",
    "YouTubeVideo('VWrhRBb-1Ig')\n"
   ]
  }
 ],
 "metadata": {
  "celltoolbar": "Slideshow",
  "kernelspec": {
   "display_name": "Python 3",
   "language": "python",
   "name": "python3"
  },
  "language_info": {
   "codemirror_mode": {
    "name": "ipython",
    "version": 3
   },
   "file_extension": ".py",
   "mimetype": "text/x-python",
   "name": "python",
   "nbconvert_exporter": "python",
   "pygments_lexer": "ipython3",
   "version": "3.7.6"
  },
  "nbpresent": {
   "slides": {
    "7f242b9d-99db-4820-9224-1940306010e1": {
     "id": "7f242b9d-99db-4820-9224-1940306010e1",
     "prev": "b5b2f9a1-71c7-4a8c-8449-99d1d43ea979",
     "regions": {
      "dc5f27e0-7d6a-4f24-9216-d7b6fda424bc": {
       "attrs": {
        "height": 0.8,
        "width": 0.8,
        "x": 0.1,
        "y": 0.1
       },
       "content": {
        "cell": "c03a1e0a-7216-4153-b942-9bf744018b38",
        "part": "whole"
       },
       "id": "dc5f27e0-7d6a-4f24-9216-d7b6fda424bc"
      }
     }
    },
    "84a7b934-f637-4a9c-b526-69786196c099": {
     "id": "84a7b934-f637-4a9c-b526-69786196c099",
     "prev": "7f242b9d-99db-4820-9224-1940306010e1",
     "regions": {
      "6d19c0dc-8cf3-4741-8923-010d6b872f4c": {
       "attrs": {
        "height": 0.8,
        "width": 0.8,
        "x": 0.1,
        "y": 0.1
       },
       "content": {
        "cell": "c77c2be8-60c8-4b42-9dc4-d71498a3a9ab",
        "part": "whole"
       },
       "id": "6d19c0dc-8cf3-4741-8923-010d6b872f4c"
      }
     }
    },
    "9117909e-8a9c-45ff-9a20-cf93b75b700c": {
     "id": "9117909e-8a9c-45ff-9a20-cf93b75b700c",
     "prev": "a42dff4d-9d8e-40d0-b4be-c48ed4f73845",
     "regions": {
      "aaf0281b-7a95-477e-9020-2ff151a08c6f": {
       "attrs": {
        "height": 0.8,
        "width": 0.8,
        "x": 0.1,
        "y": 0.1
       },
       "content": {
        "cell": "edfae9bc-3c4d-43b6-9254-d58e68dd226c",
        "part": "whole"
       },
       "id": "aaf0281b-7a95-477e-9020-2ff151a08c6f"
      }
     }
    },
    "a42dff4d-9d8e-40d0-b4be-c48ed4f73845": {
     "id": "a42dff4d-9d8e-40d0-b4be-c48ed4f73845",
     "prev": "a4c9baca-c166-4ad9-bf37-34b5c6dbac9d",
     "regions": {
      "c3d5d2fe-17c5-42af-81ab-3a0373373f29": {
       "attrs": {
        "height": 0.8,
        "width": 0.8,
        "x": 0.1,
        "y": 0.1
       },
       "content": {
        "cell": "ac8bea6c-33c4-44b3-a447-5383ca3cd615",
        "part": "whole"
       },
       "id": "c3d5d2fe-17c5-42af-81ab-3a0373373f29"
      }
     }
    },
    "a4c9baca-c166-4ad9-bf37-34b5c6dbac9d": {
     "id": "a4c9baca-c166-4ad9-bf37-34b5c6dbac9d",
     "prev": "d281b63f-89a5-4a4a-b516-8352f40d2591",
     "regions": {
      "23ccdb2f-68be-4537-86cb-d94232475bf3": {
       "attrs": {
        "height": 0.8,
        "width": 0.8,
        "x": 0.1,
        "y": 0.1
       },
       "content": {
        "cell": "08ff9e7b-7d21-4c27-97e0-f87b618c4033",
        "part": "whole"
       },
       "id": "23ccdb2f-68be-4537-86cb-d94232475bf3"
      }
     }
    },
    "acf0e45e-1534-478f-8b7a-32227ea62e92": {
     "id": "acf0e45e-1534-478f-8b7a-32227ea62e92",
     "prev": "9117909e-8a9c-45ff-9a20-cf93b75b700c",
     "regions": {
      "3fb838cd-c496-4857-8e4d-68e1eda403bf": {
       "attrs": {
        "height": 0.8,
        "width": 0.8,
        "x": 0.1,
        "y": 0.1
       },
       "content": {
        "cell": "8c2f151b-5c64-4958-a3c5-b0f405bc6d6d",
        "part": "whole"
       },
       "id": "3fb838cd-c496-4857-8e4d-68e1eda403bf"
      }
     }
    },
    "b5b2f9a1-71c7-4a8c-8449-99d1d43ea979": {
     "id": "b5b2f9a1-71c7-4a8c-8449-99d1d43ea979",
     "prev": null,
     "regions": {
      "2505cf6d-d330-44bd-930d-b4ee7e2b0934": {
       "attrs": {
        "height": 0.8,
        "width": 0.8,
        "x": 0.1,
        "y": 0.1
       },
       "content": {
        "cell": "a3a55243-7a8b-471b-a752-2198cdb1b0db",
        "part": "whole"
       },
       "id": "2505cf6d-d330-44bd-930d-b4ee7e2b0934"
      }
     }
    },
    "d281b63f-89a5-4a4a-b516-8352f40d2591": {
     "id": "d281b63f-89a5-4a4a-b516-8352f40d2591",
     "prev": "84a7b934-f637-4a9c-b526-69786196c099",
     "regions": {
      "5d2eff4d-ae77-4a2d-a4e2-e6ca74812eaf": {
       "attrs": {
        "height": 0.8,
        "width": 0.8,
        "x": 0.1,
        "y": 0.1
       },
       "content": null,
       "id": "5d2eff4d-ae77-4a2d-a4e2-e6ca74812eaf"
      }
     }
    }
   },
   "themes": {}
  }
 },
 "nbformat": 4,
 "nbformat_minor": 2
}
