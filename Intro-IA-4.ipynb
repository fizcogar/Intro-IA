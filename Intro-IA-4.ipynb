{
 "cells": [
  {
   "cell_type": "markdown",
   "metadata": {
    "slideshow": {
     "slide_type": "slide"
    }
   },
   "source": [
    "# Introducción a la Inteligencia Artificial\n",
    "\n",
    "\n",
    "<img src=\"images/Cartoon_Robot.svg.png\" width=\"200\"/>\n",
    "\n",
    "---\n",
    "Fernando Izco García  (fernando.izco.garcia@navarra.es)  \n",
    " Servicio de Avance Digital  \n",
    " Dirección General de Telecomunicaciones y Digitalización  \n",
    "<img src=\"images/logo.gn.png\" width=\"300\"/>"
   ]
  },
  {
   "cell_type": "markdown",
   "metadata": {
    "slideshow": {
     "slide_type": "slide"
    }
   },
   "source": [
    "# Introducción a la Inteligencia Artificial\n",
    "\n",
    "1. Primera parte\n",
    "    1. [Un ejemplo como introducción](Intro-IA-1.ipynb)\n",
    "    1. [Definición y casos de uso](Intro-IA-2.ipynb)\n",
    "1. Segunda parte\n",
    "    1. [Claves del aprendizaje supervisado](Intro-IA-3.ipynb)\n",
    "    1. **Claves del aprendizaje profundo**\n",
    "    1. [Ética e IA](Intro-IA-5.ipynb)\n",
    "\n",
    "\n",
    "[<img src=\"images/youtube.png\" width=\"30\"  align=\"left\"/>](https://youtu.be/ManpEaTrbog)\n",
    "[Video de este capítulo en YouTube](https://youtu.be/ManpEaTrbog)"
   ]
  },
  {
   "cell_type": "markdown",
   "metadata": {
    "slideshow": {
     "slide_type": "slide"
    }
   },
   "source": [
    "# Aprendizaje profundo\n",
    "\n",
    "El **aprendizaje profundo** es la feliz conjunción de **tres hechos**:\n",
    "* El descubrimiento de **modelos** que pueden aprender mucho si hay suficientes datos\n",
    "* Una gran cantidad de **datos** disponibles\n",
    "* Potencia de **cálculo** suficiente a precios asequibles\n",
    "\n",
    "|Modelos|Datos|Potencia de cálculo|\n",
    "| -     | -   | -                 |\n",
    "|<img src=\"images/nn.png\" width=\"300\"/>|<img src=\"images/data-world.jpg\" width=\"300\"/>|<img src=\"images/cluster.jpg\" width=\"300\"/>|\n",
    "\n"
   ]
  },
  {
   "cell_type": "markdown",
   "metadata": {
    "slideshow": {
     "slide_type": "notes"
    }
   },
   "source": [
    "Suele identificarse con un modelo basado en redes neuronales, pero a mí me gusta esta definición:\n",
    "* Modelos basados en redes neuronales\n",
    "* La era de los datos digitales\n",
    "* Computación distribuida a precios asequibles\n",
    "    * In-situ\n",
    "    * Particularmente, en la nube"
   ]
  },
  {
   "cell_type": "markdown",
   "metadata": {
    "slideshow": {
     "slide_type": "slide"
    }
   },
   "source": [
    "<img src=\"images/dl.vs.ml.png\" width=\"1000\"/>\n"
   ]
  },
  {
   "cell_type": "markdown",
   "metadata": {
    "slideshow": {
     "slide_type": "notes"
    }
   },
   "source": [
    "En aprendizaje máquina se suele decir que \"más datos nunca molestan\", pero sólo del deep learning puede aprovechar grandes cantidades de datos\n",
    "* Siempre que tengamos suficiente potencia de cálculo para entrenar"
   ]
  },
  {
   "cell_type": "markdown",
   "metadata": {
    "slideshow": {
     "slide_type": "skip"
    }
   },
   "source": [
    "<img src=\"images/azure.nc6.png\" width=\"800\"/>\n"
   ]
  },
  {
   "cell_type": "markdown",
   "metadata": {
    "slideshow": {
     "slide_type": "skip"
    }
   },
   "source": [
    "Un ejemplo del coste de una máquina virtual para ciencia de datos de Microsoft Azure"
   ]
  },
  {
   "cell_type": "markdown",
   "metadata": {
    "slideshow": {
     "slide_type": "slide"
    }
   },
   "source": [
    "## GPU: Graphics Processing Unit\n",
    "\n",
    "<img src=\"images/gpus.png\" width=\"1200\"/>"
   ]
  },
  {
   "cell_type": "markdown",
   "metadata": {
    "slideshow": {
     "slide_type": "notes"
    }
   },
   "source": [
    "### GPUs ###\n",
    "\n",
    "Originalmente diseñadas por el auge de los videojuegos\n",
    "* El problema de proyectar en 2D objetos en 3D se resuelve multiplicando vectores y matrices\n",
    "* Igual que en machine learning\n",
    "\n",
    "\n",
    "NVidia y Google\n",
    "* GTX, RTX: NVIDIA GeForce\n",
    "* TPU: TensorFlow PU"
   ]
  },
  {
   "cell_type": "markdown",
   "metadata": {
    "slideshow": {
     "slide_type": "slide"
    }
   },
   "source": [
    "<img src=\"images/rafa.5.jpg\" width=\"1000\"/>\n"
   ]
  },
  {
   "cell_type": "markdown",
   "metadata": {
    "slideshow": {
     "slide_type": "notes"
    }
   },
   "source": [
    "El Rafa Nadal de hoy en día es comparable a un modelo de aprendizaje profundo:\n",
    "- Ha demostrado tener mucho talento: es capaz de aprender patrones complejos\n",
    "- Lleva años entrenando duro, y ha sido capaz de aprovechar ese entrenamiento\n",
    "    - Porque tiene hardware de sobra para aprender rápido"
   ]
  },
  {
   "cell_type": "markdown",
   "metadata": {
    "slideshow": {
     "slide_type": "slide"
    }
   },
   "source": [
    "## Redes neuronales ##\n",
    "\n",
    "El modelo, en estos casos, es alguna arquitectura basada en **redes neuronales**.\n",
    "\n",
    "<img src=\"images/nn.2.png\" width=\"1000\"/>\n"
   ]
  },
  {
   "cell_type": "markdown",
   "metadata": {
    "slideshow": {
     "slide_type": "notes"
    }
   },
   "source": [
    "Modelo: nuevas arquitecturas de redes neuronales\n",
    "* La **capa de entrada** es figurada, no hay computación. Una 'neurona' por variable de entrada.\n",
    "* Cada **neurona** de cada capa suele computar la misma función, cada una con sus parámetros\n",
    "* Cada **capa** puede tener una arquitectura diferente\n",
    "* El tamaño de la **capa de salida** depende del tamaño de la predicción \n",
    "    * Una única neurona (regresión, clasificación)\n",
    "    * Muchas (modelos generativos)\n"
   ]
  },
  {
   "cell_type": "markdown",
   "metadata": {
    "slideshow": {
     "slide_type": "slide"
    }
   },
   "source": [
    "## Arquitectura conectada ('full connect')\n",
    "\n",
    "<img src=\"images/neurona.png\" width=\"1600\"/>"
   ]
  },
  {
   "cell_type": "markdown",
   "metadata": {
    "slideshow": {
     "slide_type": "notes"
    }
   },
   "source": [
    "Por ejemplo, la arquitectura más simple (y la primera que existió)\n",
    "\n",
    "¡La función que computa cada neurona es casi un simple modelo lineal!\n",
    "* Excepto por la función de activación\n",
    "\n",
    "Por lo tanto, el modelo completo, la función que ejecuta la neurona de salida, es una función sencilla (un simple modelo lineal al que se aplica una función de activación) de cuatro funciones sencillas de cuatro funciones sencillas de tres variables de entrada.\n",
    "\n",
    "Pregunta: ¿Cual es la red neuronal más pequeña que puede resolver el problema de la predicción del vino?\n",
    "* Una única neurona"
   ]
  },
  {
   "cell_type": "markdown",
   "metadata": {
    "slideshow": {
     "slide_type": "notes"
    }
   },
   "source": [
    "El tamaño de la red:\n",
    "* La capa de entrada tiene una entrada para cada variable o característica de la que depende la predicción. Coincide con las variables de entrada de los datos de ejemplo.\n",
    "* La capa de salida tendrá tantas neuronas como datos queramos predecir. Coincide con la o las variables a predecir de los datos de ejemplo.\n",
    "* El número de capas internas y el tamaño de estas capas depende de la complejidad del problema a resolver. Problemas complejos precisarán de redes profundas.\n",
    "    * Esto es un **hiperparámetro**"
   ]
  },
  {
   "cell_type": "markdown",
   "metadata": {
    "slideshow": {
     "slide_type": "slide"
    }
   },
   "source": [
    "## Teorema de aproximación universal\n",
    "### Una red neuronal puede computar cualquier función ... con tiempo y dinero\n",
    "<img src=\"images/uat.png\" width=\"1000\"/>\n"
   ]
  },
  {
   "cell_type": "markdown",
   "metadata": {
    "slideshow": {
     "slide_type": "notes"
    }
   },
   "source": [
    "### teorema de aproximación universal\n",
    "\n",
    "Neural nets can compute any function\n",
    "http://neuralnetworksanddeeplearning.com/chap4.html\n",
    "    "
   ]
  },
  {
   "cell_type": "markdown",
   "metadata": {
    "slideshow": {
     "slide_type": "slide"
    }
   },
   "source": [
    "## Arquitectura convolucional: convolución\n",
    "\n",
    "\n",
    "<img src=\"images/convolution.2.gif\" width=\"1500\"/>\n"
   ]
  },
  {
   "cell_type": "markdown",
   "metadata": {
    "slideshow": {
     "slide_type": "notes"
    }
   },
   "source": [
    "Una arquitectura extremadamente popular, la CNN (convolutional neural network)\n",
    "* Una convolución es aplicar un filtro a toda una imagen"
   ]
  },
  {
   "cell_type": "markdown",
   "metadata": {
    "slideshow": {
     "slide_type": "notes"
    }
   },
   "source": [
    "Esto ha existido siempre en programas de retoque fotográfico como Photoshop\n",
    "* Cada filtro **resalta** algunas características de una imagen"
   ]
  },
  {
   "cell_type": "markdown",
   "metadata": {
    "slideshow": {
     "slide_type": "slide"
    }
   },
   "source": [
    "## Arquitectura convolucional: convolución\n",
    "\n",
    "\n",
    "Una convolución entre una imagen y ciertos filtros resaltan ciertas características de la imagen.\n",
    "\n",
    "<img src=\"images/conv-line-detection.jpg\" width=\"600\"/>\n",
    "\n",
    "\n",
    "\n",
    "\n"
   ]
  },
  {
   "cell_type": "markdown",
   "metadata": {
    "slideshow": {
     "slide_type": "slide"
    }
   },
   "source": [
    "\n",
    "<img src=\"images/conv.neuron.png\" style=\"width: 1600px;\"/>\n"
   ]
  },
  {
   "cell_type": "markdown",
   "metadata": {
    "slideshow": {
     "slide_type": "notes"
    }
   },
   "source": [
    "Los filtros de una CNN no son estos, no son fijos\n",
    "* ¡Los parámetros del modelo son los filtros! \n",
    "    * ¡Lo que el modelo aprende son aquellos filtros que resaltan las partes de una imagen que nos permiten obtener el resultado deseado!"
   ]
  },
  {
   "cell_type": "markdown",
   "metadata": {
    "slideshow": {
     "slide_type": "slide"
    }
   },
   "source": [
    "## Arquitectura convolucional\n",
    "\n",
    "### Complejidad de las características por capa ###\n",
    "\n",
    "<img src=\"images/conv-features.png\" width=\"800\"/>"
   ]
  },
  {
   "cell_type": "markdown",
   "metadata": {
    "slideshow": {
     "slide_type": "notes"
    }
   },
   "source": [
    "Una característica muy importante de las CNN es que los filtros de las primeras capas resaltan (aprenden a resaltar) características simples, y sucesivas capas resaltan (aprenden a resaltar) características más complejas a partir de las características simples de las capas anteriores\n",
    "\n",
    "Por cierto, esto es **Ingeniería de características automática**"
   ]
  },
  {
   "cell_type": "markdown",
   "metadata": {
    "slideshow": {
     "slide_type": "slide"
    }
   },
   "source": [
    "## Transferencia\n",
    "\n",
    "\n",
    "<img src=\"images/transferencia.png\" width=\"1600\"/>\n"
   ]
  },
  {
   "cell_type": "markdown",
   "metadata": {
    "slideshow": {
     "slide_type": "notes"
    }
   },
   "source": [
    "### Transferencia ###\n",
    "* En una red neuronal convolucional, si las imágenes son del mismo dominio, los filtros de las primeras capas son muy parecidos\n",
    "* En lugar de empezar con los parámetros aleatorios, es posible comenzar con una red pre-entrenada\n",
    "    * Entrenar sólo las últimas capas\n",
    "    \n",
    "### Es otro rasgo de aprendizaje que tenemos los **animales**\n",
    "    \n",
    "Podemos tener **magníficos resultados con poco entrenamiento**\n",
    "\n",
    "### Esto es lo que hacen empresas como IBM y su producto IVA (IBM Video Analytics)\n",
    "* Es un modelo preentrenado\n",
    "* Lo venden como un servicio\n",
    "    * Proporcionas imágenes propias\n",
    "    * Reentrenan el modelo con tus imágenes\n",
    "    \n",
    "### Es una oportunidad para las administraciones públicas\n",
    "* Compartir modelos preentrenados\n"
   ]
  },
  {
   "cell_type": "markdown",
   "metadata": {
    "slideshow": {
     "slide_type": "slide"
    }
   },
   "source": [
    "## Ejemplo de transferencia\n",
    "\n",
    "### A partir de este modelo preentrenado, entrenar otro para detectar ...\n",
    "\n",
    "<img src=\"images/yolo.gif\" width=\"1000\"/>"
   ]
  },
  {
   "cell_type": "markdown",
   "metadata": {
    "slideshow": {
     "slide_type": "notes"
    }
   },
   "source": [
    "Es un ejemplo de dudosa utilidad, pero se podría entrenar un modelo partiendo de este para detectar personas que estornudan sin seguir las recomendaciones de la OMS. El modelo ya sabe distinguir personas de coches de motos, etc. por lo que costaría poco reentrenarlo para identificar personas que estornudan como el señor del centro de la imagen :)"
   ]
  },
  {
   "cell_type": "markdown",
   "metadata": {
    "slideshow": {
     "slide_type": "slide"
    }
   },
   "source": [
    "## Arquitectura residual (ResNet-12)\n",
    "\n",
    "<img src=\"images/resnet-12.png\" style=\"width: 800px;\" align=\"middle\"/>"
   ]
  },
  {
   "cell_type": "markdown",
   "metadata": {
    "slideshow": {
     "slide_type": "notes"
    }
   },
   "source": [
    "La arquitectura residual es una triquiñuela para que las redes neuronales puedan ser realmente profundas\n",
    "* **\"Cortocircuitan\"** una salida de una capa previa a la entrada de una capa posterior"
   ]
  },
  {
   "cell_type": "markdown",
   "metadata": {
    "slideshow": {
     "slide_type": "slide"
    }
   },
   "source": [
    "### Redes adversarias generativas (GANs, generative adversarial networks)###\n",
    "\n",
    "<img src=\"images/GAN_en.png\" width=\"1500\"/>"
   ]
  },
  {
   "cell_type": "markdown",
   "metadata": {
    "slideshow": {
     "slide_type": "notes"
    }
   },
   "source": [
    "### Redes adversarias generativas (GANs, generative adversarial networks)###\n",
    "Dos redes neuronales enfrentadas, **'compitiendo'**\n",
    "* Generación no supervisada\n",
    "* Discriminación supervisada  \n",
    "\n",
    "La clave es que la función de pérdida del entrenamiento de cada red es una es función del resultado de la otra.\n",
    "\n",
    "\"GANs are unsupervised learning algorithms that use a supervised loss as part of the training. The later appears to be where you are getting hung-up\"  \n",
    "https://stackoverflow.com/questions/44445778/are-gans-unsupervised-or-supervised\n"
   ]
  },
  {
   "cell_type": "markdown",
   "metadata": {
    "slideshow": {
     "slide_type": "slide"
    }
   },
   "source": [
    "## Librerías para aprendizaje profundo\n",
    "\n",
    "<img src=\"images/deep.lib.png\" width=\"1400\"/>\n"
   ]
  },
  {
   "cell_type": "markdown",
   "metadata": {
    "slideshow": {
     "slide_type": "notes"
    }
   },
   "source": [
    "Por supuesto, todas las arquitecturas están disponibles en magníficas librerías de aprendizaje profundo\n",
    "\n",
    "Algunas son de más alto nivel, otras de bajo nivel\n",
    "* Las de alto nivel suelen basarse en las de bajo nivel"
   ]
  },
  {
   "cell_type": "markdown",
   "metadata": {
    "slideshow": {
     "slide_type": "slide"
    }
   },
   "source": [
    "## Aprendizaje reforzado\n",
    "\n",
    "### No es ni supervisado ni no supervisado ...\n",
    "\n",
    "<img src=\"images/reinforcement_learning_diagram.png\" width=\"1500\"/>\n"
   ]
  },
  {
   "cell_type": "markdown",
   "metadata": {
    "slideshow": {
     "slide_type": "notes"
    }
   },
   "source": [
    "## Aprendizaje reforzado\n",
    "\n",
    "* Hay un entorno en un estado, sobre el que un agente puede ejecutar acciones\n",
    "* Al ejecutar una acción sobre el entorno\n",
    "    * Tenemos un nuevo estado\n",
    "    * Y una (posible) recompensa\n"
   ]
  },
  {
   "cell_type": "markdown",
   "metadata": {
    "slideshow": {
     "slide_type": "slide"
    }
   },
   "source": [
    "## AlphaGo Zero\n",
    "\n",
    "### Como colofón, un ejemplo de aprendizaje reforzado\n",
    "* Combina **algunos de los conceptos** que hemos aprendido\n",
    "* Rendimiento **sobrehumano**\n",
    "* Es lo más parecido que existe al **teorema de aproximación universal**\n",
    "\n",
    "<img src=\"images/alphago-zero.png\" width=\"600\"/>\n",
    "\n",
    "https://medium.com/applied-data-science/alphago-zero-explained-in-one-diagram-365f5abf67e0"
   ]
  },
  {
   "cell_type": "markdown",
   "metadata": {
    "slideshow": {
     "slide_type": "notes"
    }
   },
   "source": [
    "### Como colofón, un ejemplo más, de aprendizaje reforzado\n",
    "* Combina **algunos de los conceptos** que hemos aprendido\n",
    "* Es uno de los pocos casos en los que un modelo de aprendizaje máquina **supera, con creces, el rendimiento humano**\n",
    "* Es una **aproximación al teorema de aproximación universal**:\n",
    "    * Con datos de entrenamiento casi infinitos\n",
    "    * Con enormes recursos de comutación (35 millones de dólares estima https://www.yuzeh.com/data/agz-cost.html)\n",
    "    \n",
    "\n",
    "#### AlphaGo, AlphaGo Zero y Alpha Zero (Google)\n",
    "* AlphaGo tenía programadas heurísticas de expertos en Go\n",
    "* AlphaGo Zero **sólo sabe las reglas del juego** (Tábula rasa)\n",
    "* Alpha Zero es muy parecido, per juega tambien a ajedrez, y le dio un palizón al campeón del mundo de ajedrez\n",
    "    * Quién, por cierto, está jugando ahora mucho mejor, aprendiendo de Alpha zero.\n",
    "\n",
    "https://discovery.ucl.ac.uk/id/eprint/10045895/1/agz_unformatted_nature.pdf\n",
    "\n",
    "Iteracion:\n",
    "* Juega contra si mismo para **generar el conjunto de datos de entrenamiento**.\n",
    "* **Entrena una red neuronal** con ese conjunto de entrenamiento\n",
    "* Evaluación de la red neuronal\n",
    "    * Después del entrenamiento compiten la red recién entrenada contra la mejor versión hasta el momento.\n",
    "    * Si gana el 55%, se considera la nueva campeona"
   ]
  },
  {
   "cell_type": "markdown",
   "metadata": {
    "slideshow": {
     "slide_type": "slide"
    }
   },
   "source": [
    "\n",
    "<img src=\"images/agz.1.png\" widt=\"1800\"/>\n"
   ]
  },
  {
   "cell_type": "markdown",
   "metadata": {
    "slideshow": {
     "slide_type": "notes"
    }
   },
   "source": [
    "Tres fases diferentes (que se ejecutan en paralelo)\n",
    "* Jugar contra si mismo, para generar el conjunto de datos de entrenamiento\n",
    "* Reentrenar una red neuronal con esos datos\n",
    "* Evaluar la nueva red neuronal, para ver si es el nuevo campeón"
   ]
  },
  {
   "cell_type": "markdown",
   "metadata": {
    "slideshow": {
     "slide_type": "slide"
    }
   },
   "source": [
    "### Entrenamiento\n",
    "* Inicialmente **sólo sabe las reglas del juego** (tábula rasa)\n",
    "* Juega contra si mismo para **generar el conjunto de datos de entrenamiento**.\n",
    "* La selección de la mejor jugada\n",
    "    * La decide un algoritmo **tradicional** de búsqueda en árbol **ayudado por la red neuronal**\n",
    "    * Es una alianza entre **aprendizaje** (red neuronal) y **exploración** (búsqueda)\n",
    "\n",
    "<img src=\"images/alphago.zero.training.png\" widt=\"1000\"/>\n"
   ]
  },
  {
   "cell_type": "markdown",
   "metadata": {
    "slideshow": {
     "slide_type": "notes"
    }
   },
   "source": [
    "### Entrenamiento\n",
    "* Juega contra si mismo para **generar el conjunto de datos de entrenamiento**.\n",
    "* Con esos datos se entrena la red neuronal\n",
    "        \n",
    "### Selección de la mejor jugada\n",
    "\n",
    "No es la red neuronal quien decide, es un algoritmo 'tradicional' de búsqueda en árbol (Montecarlo Tree Search MCTS)\n",
    "* Este algoritmo necesita dos funciones para elegir una jugada\n",
    "    * Una que estime la 'puntuación' de las jugadas posibles en un estado concreto\n",
    "    * Otra que estime la probabilidad de ganar o perder en un estado concreto del juego\n",
    "\n",
    "Con esas dos funciones implementa una ingeniosa búsqueda en árbol que calcula la mejor jugada a partir de un estado mucho mejor que la primera de las funciones.\n",
    "\n",
    "Sin aprendizaje profundo, estas funciones se basan en 'fuerza bruta' (es lo que hace stockfish)\n",
    "* Es mucho mejor basarse en una red neuronal\n",
    "\n",
    "Por su parte, una solución basada sólo en la red neuronal aprende muuuucho más despacio\n",
    "\n",
    "En el *'paper'* dice que alcanzó el nivel *'campeón del mundo'* jugando contra sí mismo, en cuestión de horas.\n",
    "* Pero no dice qué cantidad de potencia de computación consumieron. Hay estimaciones, entre 25 y 35 millones de dólares"
   ]
  },
  {
   "cell_type": "markdown",
   "metadata": {
    "slideshow": {
     "slide_type": "slide"
    }
   },
   "source": [
    "## AlphaGo Zero: estado de juego\n",
    "\n",
    "### Es una representación bidimensional del tablero de juego\n",
    "\n",
    "<img src=\"images/agz.2.png\" widt=\"1600\"/>\n"
   ]
  },
  {
   "cell_type": "markdown",
   "metadata": {
    "slideshow": {
     "slide_type": "notes"
    }
   },
   "source": [
    "### Estado de juego\n",
    "\n",
    "Como estado de juego se guardan los últimas 8 movimientos de cada jugador, de la siguiente manera:\n",
    "* Son 17 planos de 19x19 posiciones\n",
    "* Los 8 primeros guardan las posiciones de las fichas negras de las últimos 7 jugadas\n",
    "* Los 8 siguiente las posiciones de las fichas blancas de las últimos 7 jugadas\n",
    "* El último plano sólo dice si juegan negras o blancas"
   ]
  },
  {
   "cell_type": "markdown",
   "metadata": {
    "slideshow": {
     "slide_type": "slide"
    }
   },
   "source": [
    "## AlphaGo Zero: la red neuronal\n",
    "\n",
    "### Es una arquitectura residual convolucional\n",
    "\n",
    "<img src=\"images/agz.3.png\" widt=\"1800\"/>\n"
   ]
  },
  {
   "cell_type": "markdown",
   "metadata": {
    "slideshow": {
     "slide_type": "notes"
    }
   },
   "source": [
    "### La red neuronal\n",
    "\n",
    "Es una arquitectura **residual convolucional**\n",
    "* Residual, para que sea profunda, compleja\n",
    "* Convolucional porque la entrada es, al fin y al cabo, una imagen\n",
    "\n",
    "La red está compuesta de \n",
    "* Bloques residuales y \n",
    "* Dos salidas, dos **cabezas**\n",
    "La arquitectura de los bloques residuales es, sorprendentemente, **convolucional**\n",
    "* Su cometido es encontrar patrones, características, progresívamente complejas, capa a capa\n",
    "Las salidas son redes conectadas\n",
    "* La cabeza de **poliza** predice lo buena que es cada posible jugada. Hay 19x19+1 jugadas, se puede pasar\n",
    "* La cabeza del **valor** predice la probabilidad de que el estado actual nos lleve a la victoria. Entre -1 y 1\n",
    "\n",
    "Esas dos salidas son los datos que necesita la búsqueda en árbol (Montecarlo Tree Search)"
   ]
  },
  {
   "cell_type": "markdown",
   "metadata": {
    "slideshow": {
     "slide_type": "slide"
    }
   },
   "source": [
    "## Por cierto ...\n",
    "\n",
    "En el *Paper* publicado por Google en *Nature* presentando AlphaGo Zero dice:\n",
    "\n",
    "<img src=\"images/alphazero.gradient.descent.png\" widt=\"800\"/>"
   ]
  },
  {
   "cell_type": "markdown",
   "metadata": {
    "slideshow": {
     "slide_type": "slide"
    }
   },
   "source": [
    "## Las claves del aprendizaje profundo\n",
    "\n",
    "\n",
    "El aprendizaje profundo usa modelos basados en **redes neuronales** \n",
    "* Capaces de aprender de **muchos ejemplos** \n",
    "* Lo cual exije mucha **potencia de cálculo** de sistemas basados en **unidades de proceso gráficas (GPUs)**\n",
    "    * Que pueden alquilarse a empresas que proporcionan servicios de **computación distribuida en la nube** para la fase de entrenamiento.\n",
    "\n",
    "Una neurona implementa un **simple modelo lineal** más una función de activación, opcional.\n",
    "* La complejidad de una red neuronal es fruto de la **combinación de modelos simples**.\n",
    "* El entrenamiento sigue siendo la **optimización de los parámetros** a partir del gradiente de la función de pérdida.\n",
    "\n",
    "El tamaño de la red es un **hiperparámetro** del modelo.\n",
    "\n",
    "Hay diferentes **arquitecturas** de redes neuronales.\n",
    "* Una red neuronal normalmente **combina capas** con diferentes arquitecturas. \n",
    "* Algunas arquitecturas funcionan mejor para resolver algunos problemas.\n",
    "    * Por ejemplo, la **arquitectura convolucional** funciona especialmente bien para **imagen digital**.\n",
    "\n",
    "Hay excelentes librerías de aprendizaje profundo, con **licencia libre**. \n",
    "* Algunas están orientadas a ser **utilizadas directamente**\n",
    "* Otras están orientadas al **I+D e investigación**.\n",
    "\n",
    "Hay algunos ejemplos de aprendizaje profundo, como **alpha zero**, con **rendimiento sobrehumano**.\n",
    "\n",
    "\n",
    "\n"
   ]
  }
 ],
 "metadata": {
  "celltoolbar": "Slideshow",
  "kernelspec": {
   "display_name": "Python 3",
   "language": "python",
   "name": "python3"
  },
  "language_info": {
   "codemirror_mode": {
    "name": "ipython",
    "version": 3
   },
   "file_extension": ".py",
   "mimetype": "text/x-python",
   "name": "python",
   "nbconvert_exporter": "python",
   "pygments_lexer": "ipython3",
   "version": "3.7.6"
  },
  "nbpresent": {
   "slides": {
    "7f242b9d-99db-4820-9224-1940306010e1": {
     "id": "7f242b9d-99db-4820-9224-1940306010e1",
     "prev": "b5b2f9a1-71c7-4a8c-8449-99d1d43ea979",
     "regions": {
      "dc5f27e0-7d6a-4f24-9216-d7b6fda424bc": {
       "attrs": {
        "height": 0.8,
        "width": 0.8,
        "x": 0.1,
        "y": 0.1
       },
       "content": {
        "cell": "c03a1e0a-7216-4153-b942-9bf744018b38",
        "part": "whole"
       },
       "id": "dc5f27e0-7d6a-4f24-9216-d7b6fda424bc"
      }
     }
    },
    "84a7b934-f637-4a9c-b526-69786196c099": {
     "id": "84a7b934-f637-4a9c-b526-69786196c099",
     "prev": "7f242b9d-99db-4820-9224-1940306010e1",
     "regions": {
      "6d19c0dc-8cf3-4741-8923-010d6b872f4c": {
       "attrs": {
        "height": 0.8,
        "width": 0.8,
        "x": 0.1,
        "y": 0.1
       },
       "content": {
        "cell": "c77c2be8-60c8-4b42-9dc4-d71498a3a9ab",
        "part": "whole"
       },
       "id": "6d19c0dc-8cf3-4741-8923-010d6b872f4c"
      }
     }
    },
    "9117909e-8a9c-45ff-9a20-cf93b75b700c": {
     "id": "9117909e-8a9c-45ff-9a20-cf93b75b700c",
     "prev": "a42dff4d-9d8e-40d0-b4be-c48ed4f73845",
     "regions": {
      "aaf0281b-7a95-477e-9020-2ff151a08c6f": {
       "attrs": {
        "height": 0.8,
        "width": 0.8,
        "x": 0.1,
        "y": 0.1
       },
       "content": {
        "cell": "edfae9bc-3c4d-43b6-9254-d58e68dd226c",
        "part": "whole"
       },
       "id": "aaf0281b-7a95-477e-9020-2ff151a08c6f"
      }
     }
    },
    "a42dff4d-9d8e-40d0-b4be-c48ed4f73845": {
     "id": "a42dff4d-9d8e-40d0-b4be-c48ed4f73845",
     "prev": "a4c9baca-c166-4ad9-bf37-34b5c6dbac9d",
     "regions": {
      "c3d5d2fe-17c5-42af-81ab-3a0373373f29": {
       "attrs": {
        "height": 0.8,
        "width": 0.8,
        "x": 0.1,
        "y": 0.1
       },
       "content": {
        "cell": "ac8bea6c-33c4-44b3-a447-5383ca3cd615",
        "part": "whole"
       },
       "id": "c3d5d2fe-17c5-42af-81ab-3a0373373f29"
      }
     }
    },
    "a4c9baca-c166-4ad9-bf37-34b5c6dbac9d": {
     "id": "a4c9baca-c166-4ad9-bf37-34b5c6dbac9d",
     "prev": "d281b63f-89a5-4a4a-b516-8352f40d2591",
     "regions": {
      "23ccdb2f-68be-4537-86cb-d94232475bf3": {
       "attrs": {
        "height": 0.8,
        "width": 0.8,
        "x": 0.1,
        "y": 0.1
       },
       "content": {
        "cell": "08ff9e7b-7d21-4c27-97e0-f87b618c4033",
        "part": "whole"
       },
       "id": "23ccdb2f-68be-4537-86cb-d94232475bf3"
      }
     }
    },
    "acf0e45e-1534-478f-8b7a-32227ea62e92": {
     "id": "acf0e45e-1534-478f-8b7a-32227ea62e92",
     "prev": "9117909e-8a9c-45ff-9a20-cf93b75b700c",
     "regions": {
      "3fb838cd-c496-4857-8e4d-68e1eda403bf": {
       "attrs": {
        "height": 0.8,
        "width": 0.8,
        "x": 0.1,
        "y": 0.1
       },
       "content": {
        "cell": "8c2f151b-5c64-4958-a3c5-b0f405bc6d6d",
        "part": "whole"
       },
       "id": "3fb838cd-c496-4857-8e4d-68e1eda403bf"
      }
     }
    },
    "b5b2f9a1-71c7-4a8c-8449-99d1d43ea979": {
     "id": "b5b2f9a1-71c7-4a8c-8449-99d1d43ea979",
     "prev": null,
     "regions": {
      "2505cf6d-d330-44bd-930d-b4ee7e2b0934": {
       "attrs": {
        "height": 0.8,
        "width": 0.8,
        "x": 0.1,
        "y": 0.1
       },
       "content": {
        "cell": "a3a55243-7a8b-471b-a752-2198cdb1b0db",
        "part": "whole"
       },
       "id": "2505cf6d-d330-44bd-930d-b4ee7e2b0934"
      }
     }
    },
    "d281b63f-89a5-4a4a-b516-8352f40d2591": {
     "id": "d281b63f-89a5-4a4a-b516-8352f40d2591",
     "prev": "84a7b934-f637-4a9c-b526-69786196c099",
     "regions": {
      "5d2eff4d-ae77-4a2d-a4e2-e6ca74812eaf": {
       "attrs": {
        "height": 0.8,
        "width": 0.8,
        "x": 0.1,
        "y": 0.1
       },
       "content": null,
       "id": "5d2eff4d-ae77-4a2d-a4e2-e6ca74812eaf"
      }
     }
    }
   },
   "themes": {}
  }
 },
 "nbformat": 4,
 "nbformat_minor": 2
}
