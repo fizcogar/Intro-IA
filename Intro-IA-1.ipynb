{
 "cells": [
  {
   "cell_type": "markdown",
   "metadata": {
    "slideshow": {
     "slide_type": "slide"
    }
   },
   "source": [
    "# Introducción a la Inteligencia Artificial\n",
    "\n",
    "\n",
    "<img src=\"images/Cartoon_Robot.svg.png\" width=\"200\"/>\n",
    "\n",
    "---\n",
    "Fernando Izco García  (fernando.izco.garcia@navarra.es)  \n",
    " Servicio de Avance Digital  \n",
    " Dirección General de Telecomunicaciones y Digitalización  \n",
    "<img src=\"images/logo.gn.png\" width=\"300\"/>"
   ]
  },
  {
   "cell_type": "markdown",
   "metadata": {
    "nbpresent": {
     "id": "a3a55243-7a8b-471b-a752-2198cdb1b0db"
    },
    "slideshow": {
     "slide_type": "slide"
    }
   },
   "source": [
    "# Introducción a la Inteligencia Artificial\n",
    "\n",
    "1. Primera parte\n",
    "    1. **Un ejemplo como introducción**\n",
    "    1. [Definición y casos de uso](Intro-IA-2.ipynb)\n",
    "1. Segunda parte\n",
    "    1. [Claves del aprendizaje supervisado](Intro-IA-3.ipynb)\n",
    "    1. [Claves del aprendizaje profundo](Intro-IA-4.ipynb)\n",
    "    1. [Ética e IA](Intro-IA-5.ipynb)\n",
    "\n",
    "\n",
    "[<img src=\"images/youtube.png\" width=\"30\"  align=\"left\"/>](https://youtu.be/SYFrgoForwo)\n",
    "\n",
    "[Video de este capítulo en YouTube](https://youtu.be/SYFrgoForwo)\n"
   ]
  },
  {
   "cell_type": "markdown",
   "metadata": {
    "slideshow": {
     "slide_type": "slide"
    }
   },
   "source": [
    "## Objetivo de esta formación\n",
    "\n",
    "Obtener un **conocimiento técnico general** que os ayude a\n",
    "1. **Identificar problemas** susceptibles de ser resueltos con técnicas de IA\n",
    "1. Definir, contratar y gestionar con éxito **proyectos** relacionados con la IA\n",
    "\n",
    "### Requisitos\n",
    "* Conocimientos TIC en general\n",
    "* Matemáticas de secundaria\n",
    "* Algo de programación, pero no es imprescindible"
   ]
  },
  {
   "cell_type": "markdown",
   "metadata": {
    "slideshow": {
     "slide_type": "slide"
    }
   },
   "source": [
    "<img src=\"images/disclaimer.jpg\" width=\"1200\"/>\n",
    "\n",
    "\n",
    "<img src=\"images/cc.png\" width=\"200\"/>"
   ]
  },
  {
   "cell_type": "markdown",
   "metadata": {
    "slideshow": {
     "slide_type": "notes"
    }
   },
   "source": [
    "## Descargo de responsabilidad\n",
    "\n",
    "Puede que alguno de los contenidos de la presentación estén sujetos a derechos de autor. Si crees que es así:\n",
    "    * Ten en cuenta que esto es una iniciativa sin ánimo de lucro, impulsada por una administración pública\n",
    "    * Antes de denunciarme, avisame."
   ]
  },
  {
   "cell_type": "markdown",
   "metadata": {
    "slideshow": {
     "slide_type": "slide"
    }
   },
   "source": [
    "## Una nota acerca del entorno de esta presentación\n",
    "\n",
    "<img src=\"images/tools.png\" width=\"1200\"/>\n"
   ]
  },
  {
   "cell_type": "markdown",
   "metadata": {
    "slideshow": {
     "slide_type": "notes"
    }
   },
   "source": [
    "## Una nota acerca del entorno de esta presentación\n",
    "\n",
    "The Jupyter Notebook is an open-source **web application** that allows you to create and share documents that contain live code, equations, visualizations and narrative text. Uses include: data cleaning and transformation, numerical simulation, statistical modeling, data visualization, machine learning, and much more.\n",
    "\n",
    "https://jupyter.org/\n",
    "\n",
    "Python es un lenguaje de programación interpretado cuya filosofía hace hincapié en la legibilidad de su código.​ Se trata de un lenguaje de programación multiparadigma, ya que soporta orientación a objetos, programación imperativa y, en menor medida, programación funcional.\n",
    "\n",
    "https://www.python.org/\n",
    "\n",
    "OBS Studio es un programa para la grabación y difusión de video\n",
    "\n",
    "https://obsproject.com/es/download\n",
    "\n",
    "Audacity para editar audio\n",
    "\n",
    "https://www.audacityteam.org/\n",
    "\n",
    "\n",
    "## Todos son multiplataforma y se distribuyen con licencia libre\n"
   ]
  },
  {
   "cell_type": "markdown",
   "metadata": {
    "slideshow": {
     "slide_type": "slide"
    }
   },
   "source": [
    "# Introducción a la Inteligencia Artificial\n",
    "\n",
    "1. Primera parte\n",
    "    1. **Un ejemplo como introducción**\n",
    "    1. Definición, casos de uso y tipología\n",
    "1. Segunda parte\n",
    "    1. Claves del aprendizaje supervisado\n",
    "    1. Claves del aprendizaje profundo\n",
    "    1. Ética e IA"
   ]
  },
  {
   "cell_type": "markdown",
   "metadata": {
    "slideshow": {
     "slide_type": "slide"
    }
   },
   "source": [
    "# Un ejemplo, como introducción: \n",
    "## La ecuación del vino que toca las narices\n",
    "### Peter Passell , The New York Times,  4 de marzo de 1990\n",
    "\"Calcule la lluvia durante el invierno y durante la cosecha (en milímetros). Agregue la temperatura en verano en el viñedo (en grados centígrados). Reste 12,145. ¿Que tiene? Una discusión muy, muy apasionada sobre el vino. El profesor Orley Ashenfelter, economista de Princeton, ha ideado una fórmula matemática para predecir la calidad de las cosechas de vino tinto en Francia. Y los guardianes de la tradición están furiosos.\"\n",
    "\n",
    "The New York Times\n",
    "*'Wine Equation Puts Some Noses Out of Joint'*\n",
    "By Peter Passell\n",
    "March 4, 1990\n",
    "\n",
    "https://www.nytimes.com/1990/03/04/us/wine-equation-puts-some-noses-out-of-joint.html\n"
   ]
  },
  {
   "cell_type": "code",
   "execution_count": null,
   "metadata": {
    "slideshow": {
     "slide_type": "slide"
    }
   },
   "outputs": [],
   "source": [
    "# Para ver el video original en YouTube:\n",
    "#from IPython.display import YouTubeVideo\n",
    "#YouTubeVideo('Ec8hPHLMyzY')\n",
    "\n",
    "from IPython.display import Video\n",
    "Video(\"videos/AshenfelterGoodMorningAmerica_es.m4v\")\n"
   ]
  },
  {
   "cell_type": "markdown",
   "metadata": {
    "slideshow": {
     "slide_type": "slide"
    }
   },
   "source": [
    "## Tésis del Prof. Ashenfelter\n",
    "\n",
    "# Tomar DECISIONES basadas en DATOS  en lugar de en sensaciones"
   ]
  },
  {
   "cell_type": "markdown",
   "metadata": {
    "slideshow": {
     "slide_type": "notes"
    }
   },
   "source": [
    "\n",
    "* Los buenos vinos mejoran con la edad. También aumentan de precio.\n",
    "* Es buena idea comprar un vino cuando es joven, suponiendo que va a envejecer bien.\n",
    "\n",
    "Por entonces la FUTURA calidad (y el precio) de los vinos se basaban en las **sensaciones** de los expertos, que probaban el vino joven para estimar la calidad futura.\n",
    "\n",
    "La tesis del prof. Ashenfelter era:\n",
    "* Que la **meteorología** era el principal factor de la **diferencia de calidad** de un vino de una bodega concreta en **diferentes años**\n",
    "* Que el **precio** se podía **predecir** basándose en datos: la **meteorología** y el **precio** alcanzado por los vinos de añadas anteriores\n",
    "\n",
    "## Tomar decisiones (que vinos jóvenes comprar) basadas en datos (meteorología y precios alcanzados anteriormente) en lugar de en sensaciones (propiedades organolépticas del vino joven)"
   ]
  },
  {
   "cell_type": "code",
   "execution_count": null,
   "metadata": {
    "slideshow": {
     "slide_type": "slide"
    }
   },
   "outputs": [],
   "source": [
    "import pandas as pd\n",
    "\n",
    "data = pd.read_csv('data/meteo.vinos.csv')\n",
    "print(data)"
   ]
  },
  {
   "cell_type": "markdown",
   "metadata": {
    "slideshow": {
     "slide_type": "notes"
    }
   },
   "source": [
    "## Conjunto de datos de entrenamiento\n",
    "El conjunto de datos incluye:\n",
    "* Los datos meteorológicos de 27 cosechas\n",
    "* El precio que alcanzaron esos vinos una vez maduros\n",
    "\n",
    "Pandas es la librería por excelencia en Python para tratar datos tabularesy \n",
    "Numpy, lo mismo, para matemáticas"
   ]
  },
  {
   "cell_type": "code",
   "execution_count": null,
   "metadata": {
    "slideshow": {
     "slide_type": "slide"
    }
   },
   "outputs": [],
   "source": [
    "# Matplotlib para gráficos:\n",
    "import matplotlib.pyplot as plt\n",
    "plt.rcParams['figure.figsize'] = [20, 12]\n",
    "\n",
    "# Columnas de la tabla a vectores\n",
    "x = data['TemperaturaMediaVerano'].values\n",
    "y = data['Precio'].values\n",
    "\n",
    "# Diagrama de puntos (scatter plot)\n",
    "plt.scatter(x, y)\n",
    "plt.title(\"Precio en función de la temperatura media en verano\")\n",
    "plt.xlabel(\"Temperatura media verano\")\n",
    "plt.ylabel(\"Precio\")"
   ]
  },
  {
   "cell_type": "markdown",
   "metadata": {
    "slideshow": {
     "slide_type": "notes"
    }
   },
   "source": [
    "## matplotlib\n",
    "\n",
    "**Matplotlib** es una biblioteca para la **generación de gráficos** \n",
    "* a partir de datos contenidos en listas o arrays \n",
    "* en el lenguaje de programación Python"
   ]
  },
  {
   "cell_type": "code",
   "execution_count": null,
   "metadata": {
    "slideshow": {
     "slide_type": "slide"
    }
   },
   "outputs": [],
   "source": [
    "x = data['LluviaCosecha'].values\n",
    "y = data['Precio'].values\n",
    "\n",
    "plt.scatter(x , y)\n",
    "plt.title(\"Precio en función de la lluvia durante la cosecha en otoño\")\n",
    "plt.xlabel(\"LLuvia en otoño\")\n",
    "plt.ylabel(\"Precio\")"
   ]
  },
  {
   "cell_type": "code",
   "execution_count": null,
   "metadata": {
    "slideshow": {
     "slide_type": "slide"
    }
   },
   "outputs": [],
   "source": [
    "x = data['LluviaInvierno'].values\n",
    "y = data['Precio'].values\n",
    "\n",
    "plt.scatter(x, y)\n",
    "plt.title(\"Precio en función de la lluvia en invierno\")\n",
    "plt.xlabel(\"LLuvia en invierno\")\n",
    "plt.ylabel(\"Precio\")"
   ]
  },
  {
   "cell_type": "code",
   "execution_count": null,
   "metadata": {
    "slideshow": {
     "slide_type": "slide"
    }
   },
   "outputs": [],
   "source": [
    "x = data['Edad'].values\n",
    "y = data['Precio'].values\n",
    "\n",
    "plt.scatter(x, y)\n",
    "plt.title(\"Precio en función de la edad del vino\")\n",
    "plt.xlabel(\"Edad del vino\")\n",
    "plt.ylabel(\"Precio\")"
   ]
  },
  {
   "cell_type": "markdown",
   "metadata": {
    "slideshow": {
     "slide_type": "slide"
    }
   },
   "source": [
    "## El método del Profesor Ashenfelter\n",
    "\n",
    "### Regresión lineal (aprendizaje máquina supervisado)\n",
    "\n",
    "* Partimos de un conjunto de **datos de entrenamiento**\n",
    "* Y un **Modelo** matemático (modelo lineal)\n",
    "* **Entrenamiento del modelo**, gracias al conjunto de datos de entrenamiento\n",
    "    * Descenso de gradiente"
   ]
  },
  {
   "cell_type": "markdown",
   "metadata": {
    "slideshow": {
     "slide_type": "notes"
    }
   },
   "source": [
    "## El método del Profesor Ashenfelter\n",
    "\n",
    "El método se llama **regresión lineal** y entra dentro de lo que llamamos **aprendizaje máquina supervisado**:\n",
    "\n",
    "* Partimos de un conjunto de **datos de entrenamiento**:\n",
    "    * Datos meteorológicos recopilados por los bodegueros franceses\n",
    "    * Los precios alcanzados por los vinos en las subastas más importantes\n",
    "* **Modelo** matemático:  \n",
    "    * Un sencillo modelo lineal\n",
    "* **Entrenamiento del modelo**, gracias al conjunto de datos de entrenamiento\n",
    "    * Mediante un algoritmo de optimización denominado **descenso de gradiente**"
   ]
  },
  {
   "cell_type": "markdown",
   "metadata": {
    "slideshow": {
     "slide_type": "slide"
    }
   },
   "source": [
    "## ¿Qué es un modelo matemático?\n",
    "\n",
    "En aprendizaje máquina un modelo:\n",
    "* Es una **función parametrizada** por un conjunto de parámetros **(A)**\n",
    "* Que se puede **programar**\n",
    "* Que *predice* la variable que queremos calcular **(y)** a partir de unos datos de entrada **(x)**\n",
    "\n",
    "$\\hat y = f_A(x)$"
   ]
  },
  {
   "cell_type": "markdown",
   "metadata": {
    "slideshow": {
     "slide_type": "slide"
    }
   },
   "source": [
    "## Ejemplo de función para metrizada: la ecuación de una recta\n",
    "\n",
    "<img src=\"images/recta.png\" style=\"width: 1200px;\"/>"
   ]
  },
  {
   "cell_type": "markdown",
   "metadata": {
    "slideshow": {
     "slide_type": "notes"
    }
   },
   "source": [
    "Todos conocéis la ecuación de una recta.  \n",
    "* Es una función parametrizada. Tenemos los datos de entrada (X), la salida (Y)\n",
    "* Y dos parámetros: m y b"
   ]
  },
  {
   "cell_type": "markdown",
   "metadata": {
    "slideshow": {
     "slide_type": "slide"
    }
   },
   "source": [
    "## Ejemplo de función para metrizada: la ecuación de una recta"
   ]
  },
  {
   "cell_type": "code",
   "execution_count": null,
   "metadata": {
    "slideshow": {
     "slide_type": "-"
    }
   },
   "outputs": [],
   "source": [
    "import numpy as np\n",
    "\n",
    "# Definición de la ecuación de una recta:\n",
    "def y_recta(x):\n",
    "    return  m * x + b\n",
    "\n",
    "# Damos valores a los parámetros:\n",
    "m = b = 5\n",
    "\n",
    "# Dibujamos unos cuantos puntos\n",
    "x = np.array([0, 1, 2, 3, 4, 5, 6])\n",
    "y = y_recta(x)\n",
    "plt.axis('equal')\n",
    "plt.scatter(x, y)"
   ]
  },
  {
   "cell_type": "markdown",
   "metadata": {
    "slideshow": {
     "slide_type": "slide"
    }
   },
   "source": [
    "## Modelo lineal, en general\n",
    "\n",
    "$\\hat y = f_A(X)$\n",
    "\n",
    "$\\hat y = \\alpha_0 + \\alpha_1 \\cdot  x_1 + \\alpha_2 \\cdot x_2 + \\cdot\\cdot\\cdot + \\alpha_n \\cdot  x_n$\n",
    "\n",
    "## Modelo lineal del profesor Ashenfelter\n",
    "\n",
    "$prediccion\\_precio = \\alpha_0 + \\alpha_1 \\cdot  temp\\_ver + \\alpha_2 \\cdot lluvia\\_inv + \\alpha_3 \\cdot  lluvia\\_oto +  \\alpha_4 \\cdot  edad$\n"
   ]
  },
  {
   "cell_type": "code",
   "execution_count": null,
   "metadata": {},
   "outputs": [],
   "source": [
    "def predice_precio_vino(lluvia_invierno, temperatura_verano, lluvia_cosecha, edad):\n",
    "    return a0 + a1 * lluvia_invierno + a2 * temperatura_verano + a3 * lluvia_cosecha + a4 * edad"
   ]
  },
  {
   "cell_type": "code",
   "execution_count": null,
   "metadata": {},
   "outputs": [],
   "source": [
    "a0 = a1 = a2 = a3 = a4 = 0.03"
   ]
  },
  {
   "cell_type": "code",
   "execution_count": null,
   "metadata": {},
   "outputs": [],
   "source": [
    "print(data[:1])"
   ]
  },
  {
   "cell_type": "code",
   "execution_count": null,
   "metadata": {},
   "outputs": [],
   "source": [
    "predice_precio_vino(lluvia_invierno =600, temperatura_verano = 17.11, lluvia_cosecha = 160, edad = 31)"
   ]
  },
  {
   "cell_type": "markdown",
   "metadata": {
    "slideshow": {
     "slide_type": "slide"
    }
   },
   "source": [
    "El problema es **calcular los parámetros** para que la predicción sea lo más precisa posible\n",
    "\n",
    "## ¿Cómo calcular los parámetros? \n",
    "\n",
    "**Entrenando el modelo** mediante el algoritmo de **descenso de gradiente**\n",
    "\n",
    "## Para entenderlo, vamos a simplificar a una sola variable (y dos parámetros)\n",
    "\n",
    "$prediccion\\_precio\\_vino = \\alpha_0 + \\alpha_1 \\cdot  temperatura\\_verano$\n",
    "\n",
    "(Simplificamos para poder representarlo gráficamente)"
   ]
  },
  {
   "cell_type": "markdown",
   "metadata": {
    "slideshow": {
     "slide_type": "slide"
    }
   },
   "source": [
    "## Regresión lineal con descenso de gradiente en Python\n",
    "Simplificado a una sóla variable de entrada"
   ]
  },
  {
   "cell_type": "code",
   "execution_count": null,
   "metadata": {},
   "outputs": [],
   "source": [
    "class SimpleModel:\n",
    "    \n",
    "    def __init__(this, a0 = 0, a1 = 0):\n",
    "        # Parámetros del modelo:\n",
    "        this.a0 = a0\n",
    "        this.a1 = a1\n",
    "        \n",
    "    # Predicción según un modelo lineal (simplifiada a una sola variable):    \n",
    "    def predict(this, x):\n",
    "        return this.a0 + this.a1 * x\n",
    "    \n",
    "    # Función de pérdida\n",
    "    def loss(this, y_hat, y): \n",
    "        return 0.5 * np.square((y_hat-y)).mean()\n",
    "    \n",
    "    # Un ciclo de entrenamiento por descenso de gradiente\n",
    "    def fit(this, x, y, lr):\n",
    "        y_hat = this.predict(x)\n",
    "        grad_a0 = (y_hat - y).mean()\n",
    "        grad_a1 = (x * (y_hat - y)).mean()  \n",
    "        this.a0 = this.a0 - lr * grad_a0\n",
    "        this.a1 = this.a1 - lr * grad_a1"
   ]
  },
  {
   "cell_type": "markdown",
   "metadata": {
    "slideshow": {
     "slide_type": "notes"
    }
   },
   "source": [
    "Esta es la definición del modelo \n",
    "* simplificado, una única variable, dos parámetros\n",
    "* que **encapsula** los parámetros y las funciones en una **clase**"
   ]
  },
  {
   "cell_type": "markdown",
   "metadata": {
    "slideshow": {
     "slide_type": "slide"
    }
   },
   "source": [
    "#### Predicción con el modelo **sin entrenar**"
   ]
  },
  {
   "cell_type": "code",
   "execution_count": 93,
   "metadata": {
    "slideshow": {
     "slide_type": "-"
    }
   },
   "outputs": [
    {
     "data": {
      "text/plain": [
       "0"
      ]
     },
     "execution_count": 93,
     "metadata": {},
     "output_type": "execute_result"
    }
   ],
   "source": [
    "m = SimpleModel()\n",
    "m.predict(x = 19)"
   ]
  },
  {
   "cell_type": "code",
   "execution_count": 94,
   "metadata": {
    "slideshow": {
     "slide_type": "-"
    }
   },
   "outputs": [
    {
     "data": {
      "text/html": [
       "<img src=\"images/la.cuadrilla.jpg\" width=\"800\"/>"
      ],
      "text/plain": [
       "<IPython.core.display.Image object>"
      ]
     },
     "execution_count": 94,
     "metadata": {},
     "output_type": "execute_result"
    }
   ],
   "source": [
    "from IPython.display import Image\n",
    "from IPython.core.display import HTML \n",
    "Image(url= \"images/la.cuadrilla.jpg\", width=800)"
   ]
  },
  {
   "cell_type": "markdown",
   "metadata": {
    "slideshow": {
     "slide_type": "slide"
    }
   },
   "source": [
    "#### Entrenamiento iterativo"
   ]
  },
  {
   "cell_type": "code",
   "execution_count": 157,
   "metadata": {
    "slideshow": {
     "slide_type": "-"
    }
   },
   "outputs": [],
   "source": [
    "m = SimpleModel()\n",
    "x = data['TemperaturaMediaVerano'].values\n",
    "y = data['Precio'].values"
   ]
  },
  {
   "cell_type": "code",
   "execution_count": 166,
   "metadata": {
    "scrolled": false,
    "slideshow": {
     "slide_type": "-"
    }
   },
   "outputs": [
    {
     "name": "stdout",
     "output_type": "stream",
     "text": [
      "Pérdida: 2.495018223927645\n"
     ]
    },
    {
     "data": {
      "image/png": "[encoded data removed]",
      "text/plain": [
       "<Figure size 1440x864 with 1 Axes>"
      ]
     },
     "metadata": {
      "needs_background": "light"
     },
     "output_type": "display_data"
    }
   ],
   "source": [
    "# Cada vez que ejecutemos esta celda, es un ciclo de entrenamiento (una época)\n",
    "# Predicción y error medio:\n",
    "y_hat = m.predict(x)\n",
    "loss = m.loss(y_hat, y)\n",
    "# Los dibujamos:\n",
    "print(\"Pérdida:\", loss)\n",
    "plt.scatter(x, y, color='blue');\n",
    "plt.scatter(x, y_hat, color='red');\n",
    "plt.show()\n",
    "# Un ciclo de entrenamiento:\n",
    "m.fit(x, y, lr = 0.0005) # probar con lr = 0.003 y lr = 005 y lr = 0.008"
   ]
  },
  {
   "cell_type": "markdown",
   "metadata": {
    "slideshow": {
     "slide_type": "slide"
    }
   },
   "source": [
    "## Descenso de gradiente\n",
    "\n",
    "Imagina que te sorprende la niebla en lo alto de una montaña.\n",
    "\n",
    "<img src=\"images/fog.mountain.jpg\" width=\"1000\"/>\n",
    "\n"
   ]
  },
  {
   "cell_type": "markdown",
   "metadata": {
    "slideshow": {
     "slide_type": "notes"
    }
   },
   "source": [
    "## Descenso de gradiente\n",
    "\n",
    "El descenso de gradiente es un algoritmo de **optimización** de propósito general. Nos sirve para encontrar los **parámetros** de una función que la **minimizan**.\n",
    "\n",
    "**Gradiente** es sinónimo de **pendiente**, por lo que también podemos llamar al método **Descenso de pendiente**, lo que recuerda al simil de descender de una montaña al fondo del valle.\n",
    "\n",
    "Imagina que te sorprende la niebla en lo alto de una montaña.\n"
   ]
  },
  {
   "cell_type": "markdown",
   "metadata": {
    "slideshow": {
     "slide_type": "slide"
    }
   },
   "source": [
    "Descenso de una montaña:\n",
    "1. Tantear, buscando en qué dirección desciende\n",
    "2. Un pequeño paso\n",
    "3. Repetir\n",
    "\n",
    "<img src=\"images/gradient-descent.jpeg\" width=\"800\"/>\n",
    "\n",
    "Descenso de gradiente:\n",
    "1. Derivada de la función de pérdida con respecto a los parámetros\n",
    "2. Ajuste de parámetros\n",
    "3. Repetir"
   ]
  },
  {
   "cell_type": "markdown",
   "metadata": {
    "slideshow": {
     "slide_type": "notes"
    }
   },
   "source": [
    "Estrategia:\n",
    "1. Tanteas con el pie a tu alrededor para ver en qué dirección hay más **pendiente** hacia abajo\n",
    "2. Das **un pequeño paso** en esa dirección\n",
    "3. **Repetir** hasta llegar a la base de la montaña\n",
    "\n",
    "Eso mismo es lo que hace el algoritmo de descenso de gradiente.\n",
    "1. Calcular la **derivada** (pendiente) de cada parámetro con respecto a la función de coste\n",
    "2. **Modificar ligeramente cada parámetro** según la derivada\n",
    "3. **Repetir** hasta la convergencia\n",
    "\n",
    "https://towardsdatascience.com/linear-regression-using-gradient-descent-97a6c8700931"
   ]
  },
  {
   "cell_type": "markdown",
   "metadata": {
    "slideshow": {
     "slide_type": "slide"
    }
   },
   "source": [
    "## ¿Derivada?\n",
    "\n",
    "<img src=\"images/newton-leibniz.png\" width=\"1200\"/>\n"
   ]
  },
  {
   "cell_type": "markdown",
   "metadata": {
    "slideshow": {
     "slide_type": "notes"
    }
   },
   "source": [
    "## ¿Derivada?\n",
    "Para modificar de manera iterativa los parámetros aprovechamos el concepto del calculo matemático denominado **derivada**\n",
    "\n",
    "Que no os confunda su aspecto, esos pelucones cubrían dos cocos privilegiados\n"
   ]
  },
  {
   "cell_type": "markdown",
   "metadata": {
    "slideshow": {
     "slide_type": "slide"
    }
   },
   "source": [
    "## Si consultáis el libro de mates ...\n",
    "\n",
    "La función de pérdida que vamos a usar es la función de pérdida *'L2'* que se representa así:\n",
    "\n",
    "$ J(\\theta) = \\frac{1}{2m} \\sum_{i=1}^m ( \\hat y_i - y_i )^2$ \n",
    "\n",
    "Y la hemos programado así:\n",
    "\n",
    "``` \n",
    "def loss(this, y_hat, y): \n",
    "    return 0.5 * np.square(y_hat-y).mean() \n",
    "```\n",
    "\n",
    "Las derivadas parciales (gradientes) con respecto a los parámetros son\n",
    "\n",
    "$ \\frac{d}{d\\theta_0} = \\frac{1}{m} \\sum_{i=1}^m ( \\hat y_i - y_i )$ \n",
    "\n",
    "$ \\frac{d}{d\\theta_1} = \\frac{1}{m} \\sum_{i=1}^m (x_i \\cdot (\\hat y_i - y_i ))$  \n",
    "\n",
    "Y lo hemos programado así:\n",
    "\n",
    "```\n",
    "grad_a0 = (y_hat - y).mean()\n",
    "grad_a1 = (x * (y_hat - y)).mean()\n",
    "```\n",
    "\n",
    "## Ahora mira el código otra vez ##"
   ]
  },
  {
   "cell_type": "markdown",
   "metadata": {
    "slideshow": {
     "slide_type": "slide"
    }
   },
   "source": [
    "## Ajuste de parámetros (Entrenamiento)\n"
   ]
  },
  {
   "cell_type": "code",
   "execution_count": 171,
   "metadata": {
    "slideshow": {
     "slide_type": "-"
    }
   },
   "outputs": [],
   "source": [
    "m = SimpleModel()\n",
    "parametros = []\n",
    "perdidas = []"
   ]
  },
  {
   "cell_type": "code",
   "execution_count": 187,
   "metadata": {
    "slideshow": {
     "slide_type": "-"
    }
   },
   "outputs": [
    {
     "data": {
      "image/png": "[encoded data removed]",
      "text/plain": [
       "<Figure size 1440x864 with 1 Axes>"
      ]
     },
     "metadata": {
      "needs_background": "light"
     },
     "output_type": "display_data"
    }
   ],
   "source": [
    "# Predicción y error:\n",
    "y_hat = m.predict(x)\n",
    "loss = m.loss(y_hat, y)\n",
    "# Guardamos los valores del parámetro y de la pérdida en dos listas, para dibujar todos los puntos\n",
    "parametros.append(m.a1)\n",
    "perdidas.append(loss)\n",
    "# Dibujamos un parámetro y el error medio:\n",
    "plt.axis([-.5, 1.5, 0, 30])\n",
    "plt.scatter(parametros, perdidas);\n",
    "plt.show()\n",
    "# Un ciclo de entrenamiento:\n",
    "m.fit(x, y, lr = 0.007) # probar con lr = 0.003 y lr = 0.007 y lr = 0.008"
   ]
  },
  {
   "cell_type": "markdown",
   "metadata": {
    "slideshow": {
     "slide_type": "notes"
    }
   },
   "source": [
    "## Ajuste de parámetros (Entrenamiento)\n",
    "\n",
    "Vamos a representar gráficamente el valor de uno de los parámetros en función de la función de pérdida durante el proceso de entrenamiento"
   ]
  },
  {
   "cell_type": "markdown",
   "metadata": {
    "slideshow": {
     "slide_type": "slide"
    }
   },
   "source": [
    "## El ratio de aprendizaje (*learning rate*)\n",
    "\n",
    "\n",
    "```\n",
    "# Un ciclo de entrenamiento (una época)\n",
    "def fit(this, x, y, lr):\n",
    "    y_hat = this.predict(x)\n",
    "    grad_a0 = (y_hat - y).mean()\n",
    "    grad_a1 = (x * (y_hat - y)).mean()  \n",
    "    this.a0 = this.a0 - lr * grad_a0\n",
    "    this.a1 = this.a1 - lr * grad_a1\n",
    "```\n"
   ]
  },
  {
   "cell_type": "markdown",
   "metadata": {
    "slideshow": {
     "slide_type": "notes"
    }
   },
   "source": [
    "## El ratio de aprendizaje (*learning rate*)\n",
    "\n",
    "En el entrenamiento la modificación de los parámetros en cada iteración es la multiplicación de los gradientes por un **ratio de aprendizaje**\n",
    "* Gradúa la velocidad con la que los parámetros alcanzan un valor óptimo\n",
    "* Hay que darle un valor óptimo\n",
    "    * Si es demasiado pequeño, el entrenamiento es lento\n",
    "    * Si es demasiado grande, el entrenamiento puede fallar\n",
    "\n",
    "\n",
    "### probemos a cambiar el ratio de aprendizaje"
   ]
  },
  {
   "cell_type": "markdown",
   "metadata": {
    "slideshow": {
     "slide_type": "slide"
    }
   },
   "source": [
    "### Curva de aprendizaje  (pérdida en función del entrenamiento)"
   ]
  },
  {
   "cell_type": "code",
   "execution_count": 188,
   "metadata": {
    "slideshow": {
     "slide_type": "-"
    }
   },
   "outputs": [],
   "source": [
    "m = SimpleModel()\n",
    "iteraciones = []\n",
    "perdidas = []\n",
    "iteracion = 1"
   ]
  },
  {
   "cell_type": "code",
   "execution_count": 202,
   "metadata": {},
   "outputs": [
    {
     "data": {
      "image/png": "[encoded data removed]",
      "text/plain": [
       "<Figure size 1440x864 with 1 Axes>"
      ]
     },
     "metadata": {
      "needs_background": "light"
     },
     "output_type": "display_data"
    }
   ],
   "source": [
    "# Predicción y error:\n",
    "y_hat = m.predict(x)\n",
    "loss = m.loss(y_hat, y)\n",
    "# Guardamos los valores de la iteración y de la pérdida en dos listas, para dibujar todos los puntos\n",
    "iteraciones.append(iteracion)\n",
    "perdidas.append(loss)\n",
    "# Dibujamos:\n",
    "plt.axis([0, 15, 0, 30])\n",
    "plt.scatter(iteraciones, perdidas) # Prueba plt.plot(iteraciones, perdidas)\n",
    "plt.plot(iteraciones, perdidas)\n",
    "plt.title(\"Pérdida (MSE) en función del entrenamiento\")\n",
    "plt.xlabel(\"Iteraciones\")\n",
    "plt.ylabel(\"Pérdida\")\n",
    "plt.show()\n",
    "# Un ciclo de entrenamiento:\n",
    "m.fit(x, y, lr = 0.001)\n",
    "iteracion = iteracion + 1"
   ]
  },
  {
   "cell_type": "markdown",
   "metadata": {
    "slideshow": {
     "slide_type": "notes"
    }
   },
   "source": [
    "### Curva de aprendizaje  (pérdida en función del entrenamiento)\n",
    "\n",
    "Los anteriores graficos son ilustrativos, pero no se usan. Este, sí."
   ]
  },
  {
   "cell_type": "markdown",
   "metadata": {
    "slideshow": {
     "slide_type": "slide"
    }
   },
   "source": [
    "## Predicción con el modelo ya entrenado (Inferencia)"
   ]
  },
  {
   "cell_type": "code",
   "execution_count": 203,
   "metadata": {
    "slideshow": {
     "slide_type": "-"
    }
   },
   "outputs": [
    {
     "name": "stdout",
     "output_type": "stream",
     "text": [
      "    Año  LluviaInvierno  TemperaturaMediaVerano  LluviaCosecha  Edad  Precio\n",
      "0  1952             600                 17.1167            160    31  7.4950\n",
      "1  1953             690                 16.7333             80    30  8.0393\n",
      "2  1955             502                 17.1500            130    28  7.6858\n"
     ]
    }
   ],
   "source": [
    "print(data[:3])"
   ]
  },
  {
   "cell_type": "code",
   "execution_count": 204,
   "metadata": {},
   "outputs": [
    {
     "data": {
      "text/plain": [
       "7.249278966823324"
      ]
     },
     "execution_count": 204,
     "metadata": {},
     "output_type": "execute_result"
    }
   ],
   "source": [
    "m.predict(17.1500)"
   ]
  },
  {
   "cell_type": "markdown",
   "metadata": {
    "slideshow": {
     "slide_type": "slide"
    }
   },
   "source": [
    "### Para terminar con el ejemplo\n",
    "\n",
    "Sólo nos falta calcular **LOS CINCO PARÁMETROS** que multiplican a las cuatro variables del modelo del profe\n",
    "* En realidad, tenemos **librerías**\n",
    "\n",
    "<img src=\"images/sklearn.png\" width=\"800\"/>\n",
    "\n",
    "https://scikit-learn.org/stable/\n"
   ]
  },
  {
   "cell_type": "markdown",
   "metadata": {
    "slideshow": {
     "slide_type": "notes"
    }
   },
   "source": [
    "## Para terminar con el ejemplo\n",
    "Sólo nos falta calcular **LOS CUATRO PARÁMETROS** que multiplican a las cuatro variables del modelo del profe\n",
    "\n",
    "### Buenas noticias\n",
    "En realidad no necesitamos implementar un algoritmo de aprendizaje máquina. Tenemos **LIBRERIAS** \n",
    "* De muy buena calidad\n",
    "* Con licencia libre\n",
    "\n",
    "### Por cierto, la regresión lineal sigue siendo una herramienta a tener en cuenta\n",
    "Está presenta en las principales librerías de aprendizaje máquina"
   ]
  },
  {
   "cell_type": "markdown",
   "metadata": {
    "slideshow": {
     "slide_type": "slide"
    }
   },
   "source": [
    "## Implementación del problema con SciKit Learn (sklearn)"
   ]
  },
  {
   "cell_type": "code",
   "execution_count": 205,
   "metadata": {},
   "outputs": [
    {
     "name": "stdout",
     "output_type": "stream",
     "text": [
      "['LluviaInvierno', 'TemperaturaMediaVerano', 'LluviaCosecha', 'Edad']\n",
      "[ 0.00116672  0.61639156 -0.0038606   0.02384801]\n",
      "-3.651570330235236\n"
     ]
    }
   ],
   "source": [
    "from sklearn import linear_model\n",
    "\n",
    "# Datos de entrenamiento separado en X (variables de entrada) e Y (variable a predecir)\n",
    "variables = ['LluviaInvierno', 'TemperaturaMediaVerano', 'LluviaCosecha', 'Edad']\n",
    "X = data[variables].values\n",
    "Y = data['Precio'].values\n",
    "\n",
    "# Modelo de regresión lineal:\n",
    "regressor = linear_model.LinearRegression()\n",
    "\n",
    "# Entrenamiento:\n",
    "regressor.fit(X, Y)\n",
    "\n",
    "# Parámetros del modelo entrenado\n",
    "print(variables)\n",
    "print(regressor.coef_)\n",
    "print(regressor.intercept_)\n",
    "\n"
   ]
  },
  {
   "cell_type": "markdown",
   "metadata": {},
   "source": [
    "### Y, por fin, tenemos la fórmula que predice el precio del vino ..."
   ]
  },
  {
   "cell_type": "code",
   "execution_count": 206,
   "metadata": {},
   "outputs": [
    {
     "name": "stdout",
     "output_type": "stream",
     "text": [
      "precio = -3.6516 +0.0012 llu_inv +0.6164 tem_med_ver -0.0039 llu_cosecha +0.0238 edad\n"
     ]
    }
   ],
   "source": [
    "print(\"precio = {:+.4f} {:+.4f} llu_inv {:+.4f} tem_med_ver {:+.4f} llu_cosecha {:+.4f} edad\"\n",
    "      .format(regressor.intercept_, regressor.coef_[0], regressor.coef_[1], regressor.coef_[2], regressor.coef_[3]))"
   ]
  },
  {
   "cell_type": "markdown",
   "metadata": {
    "slideshow": {
     "slide_type": "slide"
    }
   },
   "source": [
    "### Finalmente, compara nuestro resultado con el de la publicación del profesor Ashenfelter:\n",
    "\n",
    "<img src=\"images/coeficientes.articulo.comparados.png\" width=\"1400\"/>\n",
    "\n"
   ]
  },
  {
   "cell_type": "markdown",
   "metadata": {
    "slideshow": {
     "slide_type": "slide"
    }
   },
   "source": [
    "## Predicción del precio de un vino \n",
    "\n",
    "### Importante: una vez entrenado el modelo, ya no necesitamos los datos de entrenamiento para predecir el precio del vino (Inferencia)"
   ]
  },
  {
   "cell_type": "code",
   "execution_count": 207,
   "metadata": {},
   "outputs": [
    {
     "name": "stdout",
     "output_type": "stream",
     "text": [
      "    Año  LluviaInvierno  TemperaturaMediaVerano  LluviaCosecha  Edad  Precio\n",
      "0  1952             600                 17.1167            160    31  7.4950\n",
      "1  1953             690                 16.7333             80    30  8.0393\n",
      "2  1955             502                 17.1500            130    28  7.6858\n"
     ]
    }
   ],
   "source": [
    "# Los datos de los tres vinos más añejos:\n",
    "print(data[:3])"
   ]
  },
  {
   "cell_type": "code",
   "execution_count": 208,
   "metadata": {},
   "outputs": [
    {
     "data": {
      "text/plain": [
       "array([7.67110435])"
      ]
     },
     "execution_count": 208,
     "metadata": {},
     "output_type": "execute_result"
    }
   ],
   "source": [
    "# Predicción del precio del vino más añejo\n",
    "regressor.predict([[502, 17.1500, 130, 28]])"
   ]
  },
  {
   "cell_type": "markdown",
   "metadata": {
    "slideshow": {
     "slide_type": "slide"
    }
   },
   "source": [
    "## Un ejemplo, como introducción: resumen\n",
    "\n",
    "* A partir de un **conjunto de ejemplos** \n",
    "    * Meteorología (X) y precios alcanzados (Y), en este caso\n",
    "* se calculan los parámetros (**entrenamiento**) de un **modelo matemático**\n",
    "    * Una ecuación lineal en este caso\n",
    "* mediante un algoritmo de optimización.\n",
    "    * **Descenso de gradiente** en este caso.\n",
    "        * Se define una **función de pérdida** que mide el error del modelo\n",
    "        * En cada iteración:\n",
    "            * Se calcula la **predicción** del modelo actual a cada ejemplo ($\\hat Y$)\n",
    "            * Se modifican **ligeramente** los parámetros, según el **gradiente**, para tener un modelo **ligeramente** mejor\n",
    "\n",
    "\n",
    "### Claves\n",
    "\n",
    "* Tiene que existir cierta **relación lineal** entre las variables de entrada (X) y el objetivo (Y)\n",
    "* Se puede intuir que el entrenamiento puede ser **costoso** en cuanto a potencia de cálculo\n",
    "* Tenemos **hiper-parámetros** que no se entrenan, como por ejemplo el ratio de aprendizaje\n",
    "* Este y otros **muchos algoritmos** están incluidos en excelentes **librerías '*open source'***\n",
    "* Aumque este ejemplo de **aprendizaje máquina** sea de los años 90, **sigue siendo válido** hoy en día\n",
    "    * Ahora tenemos modelos mucho más **complejos**\n",
    "    * Pero se **entrenan igual**, ajustando poco a poco los parámetros del modelo\n",
    "        * A partir de un conjunto de **datos de entrenamiento**\n"
   ]
  },
  {
   "cell_type": "code",
   "execution_count": null,
   "metadata": {},
   "outputs": [],
   "source": []
  }
 ],
 "metadata": {
  "celltoolbar": "Slideshow",
  "kernelspec": {
   "display_name": "Python 3",
   "language": "python",
   "name": "python3"
  },
  "language_info": {
   "codemirror_mode": {
    "name": "ipython",
    "version": 3
   },
   "file_extension": ".py",
   "mimetype": "text/x-python",
   "name": "python",
   "nbconvert_exporter": "python",
   "pygments_lexer": "ipython3",
   "version": "3.7.6"
  },
  "nbpresent": {
   "slides": {
    "7f242b9d-99db-4820-9224-1940306010e1": {
     "id": "7f242b9d-99db-4820-9224-1940306010e1",
     "prev": "b5b2f9a1-71c7-4a8c-8449-99d1d43ea979",
     "regions": {
      "dc5f27e0-7d6a-4f24-9216-d7b6fda424bc": {
       "attrs": {
        "height": 0.8,
        "width": 0.8,
        "x": 0.1,
        "y": 0.1
       },
       "content": {
        "cell": "c03a1e0a-7216-4153-b942-9bf744018b38",
        "part": "whole"
       },
       "id": "dc5f27e0-7d6a-4f24-9216-d7b6fda424bc"
      }
     }
    },
    "84a7b934-f637-4a9c-b526-69786196c099": {
     "id": "84a7b934-f637-4a9c-b526-69786196c099",
     "prev": "7f242b9d-99db-4820-9224-1940306010e1",
     "regions": {
      "6d19c0dc-8cf3-4741-8923-010d6b872f4c": {
       "attrs": {
        "height": 0.8,
        "width": 0.8,
        "x": 0.1,
        "y": 0.1
       },
       "content": {
        "cell": "c77c2be8-60c8-4b42-9dc4-d71498a3a9ab",
        "part": "whole"
       },
       "id": "6d19c0dc-8cf3-4741-8923-010d6b872f4c"
      }
     }
    },
    "9117909e-8a9c-45ff-9a20-cf93b75b700c": {
     "id": "9117909e-8a9c-45ff-9a20-cf93b75b700c",
     "prev": "a42dff4d-9d8e-40d0-b4be-c48ed4f73845",
     "regions": {
      "aaf0281b-7a95-477e-9020-2ff151a08c6f": {
       "attrs": {
        "height": 0.8,
        "width": 0.8,
        "x": 0.1,
        "y": 0.1
       },
       "content": {
        "cell": "edfae9bc-3c4d-43b6-9254-d58e68dd226c",
        "part": "whole"
       },
       "id": "aaf0281b-7a95-477e-9020-2ff151a08c6f"
      }
     }
    },
    "a42dff4d-9d8e-40d0-b4be-c48ed4f73845": {
     "id": "a42dff4d-9d8e-40d0-b4be-c48ed4f73845",
     "prev": "a4c9baca-c166-4ad9-bf37-34b5c6dbac9d",
     "regions": {
      "c3d5d2fe-17c5-42af-81ab-3a0373373f29": {
       "attrs": {
        "height": 0.8,
        "width": 0.8,
        "x": 0.1,
        "y": 0.1
       },
       "content": {
        "cell": "ac8bea6c-33c4-44b3-a447-5383ca3cd615",
        "part": "whole"
       },
       "id": "c3d5d2fe-17c5-42af-81ab-3a0373373f29"
      }
     }
    },
    "a4c9baca-c166-4ad9-bf37-34b5c6dbac9d": {
     "id": "a4c9baca-c166-4ad9-bf37-34b5c6dbac9d",
     "prev": "d281b63f-89a5-4a4a-b516-8352f40d2591",
     "regions": {
      "23ccdb2f-68be-4537-86cb-d94232475bf3": {
       "attrs": {
        "height": 0.8,
        "width": 0.8,
        "x": 0.1,
        "y": 0.1
       },
       "content": {
        "cell": "08ff9e7b-7d21-4c27-97e0-f87b618c4033",
        "part": "whole"
       },
       "id": "23ccdb2f-68be-4537-86cb-d94232475bf3"
      }
     }
    },
    "acf0e45e-1534-478f-8b7a-32227ea62e92": {
     "id": "acf0e45e-1534-478f-8b7a-32227ea62e92",
     "prev": "9117909e-8a9c-45ff-9a20-cf93b75b700c",
     "regions": {
      "3fb838cd-c496-4857-8e4d-68e1eda403bf": {
       "attrs": {
        "height": 0.8,
        "width": 0.8,
        "x": 0.1,
        "y": 0.1
       },
       "content": {
        "cell": "8c2f151b-5c64-4958-a3c5-b0f405bc6d6d",
        "part": "whole"
       },
       "id": "3fb838cd-c496-4857-8e4d-68e1eda403bf"
      }
     }
    },
    "b5b2f9a1-71c7-4a8c-8449-99d1d43ea979": {
     "id": "b5b2f9a1-71c7-4a8c-8449-99d1d43ea979",
     "prev": null,
     "regions": {
      "2505cf6d-d330-44bd-930d-b4ee7e2b0934": {
       "attrs": {
        "height": 0.8,
        "width": 0.8,
        "x": 0.1,
        "y": 0.1
       },
       "content": {
        "cell": "a3a55243-7a8b-471b-a752-2198cdb1b0db",
        "part": "whole"
       },
       "id": "2505cf6d-d330-44bd-930d-b4ee7e2b0934"
      }
     }
    },
    "d281b63f-89a5-4a4a-b516-8352f40d2591": {
     "id": "d281b63f-89a5-4a4a-b516-8352f40d2591",
     "prev": "84a7b934-f637-4a9c-b526-69786196c099",
     "regions": {
      "5d2eff4d-ae77-4a2d-a4e2-e6ca74812eaf": {
       "attrs": {
        "height": 0.8,
        "width": 0.8,
        "x": 0.1,
        "y": 0.1
       },
       "content": null,
       "id": "5d2eff4d-ae77-4a2d-a4e2-e6ca74812eaf"
      }
     }
    }
   },
   "themes": {}
  }
 },
 "nbformat": 4,
 "nbformat_minor": 2
}
