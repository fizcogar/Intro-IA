{
 "cells": [
  {
   "cell_type": "markdown",
   "metadata": {
    "slideshow": {
     "slide_type": "slide"
    }
   },
   "source": [
    "# Introducción a la Inteligencia Artificial\n",
    "\n",
    "\n",
    "<img src=\"images/Cartoon_Robot.svg.png\" width=\"200\"/>\n",
    "\n",
    "---\n",
    "Fernando Izco García  (fernando.izco.garcia@navarra.es)  \n",
    " Servicio de Avance Digital  \n",
    " Dirección General de Telecomunicaciones y Digitalización  \n",
    "<img src=\"images/logo.gn.png\" width=\"300\"/>"
   ]
  },
  {
   "cell_type": "markdown",
   "metadata": {
    "slideshow": {
     "slide_type": "slide"
    }
   },
   "source": [
    "# Introducción a la Inteligencia Artificial\n",
    "\n",
    "1. Primera parte\n",
    "    1. Un ejemplo como introducción\n",
    "    1. Definición y Casos de uso\n",
    "1. Segunda parte\n",
    "    1. **Claves del aprendizaje supervisado**\n",
    "    1. Claves del aprendizaje profundo\n",
    "    1. Ética e IA"
   ]
  },
  {
   "cell_type": "markdown",
   "metadata": {
    "slideshow": {
     "slide_type": "slide"
    }
   },
   "source": [
    "## Claves del aprendizaje supervisado\n",
    "\n",
    "<img src=\"images/supervised.png\" width=\"800\"/>\n",
    "\n"
   ]
  },
  {
   "cell_type": "markdown",
   "metadata": {
    "slideshow": {
     "slide_type": "notes"
    }
   },
   "source": [
    "Recuerda: aquél que aprende mediante ejemplos que incluyen las variables o cracterísticas de las que depende el resultado y **el propio resultado**"
   ]
  },
  {
   "cell_type": "markdown",
   "metadata": {
    "slideshow": {
     "slide_type": "slide"
    }
   },
   "source": [
    "## Entrenar un modelo no es trivial\n",
    "\n",
    "1. Conseguir un conjunto de datos de entrenamiento suficiente\n",
    "1. Seleccionar un modelo adecuado\n",
    "    * y *tunearlo*\n",
    "1. Entrenamiento del modelo\n",
    "1. Evaluación del modelo\n",
    "1. ... y vuelta a empezar\n",
    "\n",
    "### Experimentación e iteración\n",
    "\n",
    "#### (No confundir estas iteraciones con las del entrenamiento del modelo )\n",
    "\n",
    "<img src=\"images/iteration.png\" width=\"200\"/>\n"
   ]
  },
  {
   "cell_type": "markdown",
   "metadata": {
    "slideshow": {
     "slide_type": "notes"
    }
   },
   "source": [
    "## Entrenar un modelo no es trivial\n",
    "\n",
    "En primer lugar, hay que conseguir un conjunto de datos de entrenamiento suficiente. Esto puede ser dificil y/o costoso. Por ejemplo:\n",
    "* La cuidadosa medición y recopilación de las condiciones meteorológicas de un viñedo, junto con el precio de venta de esos vinos en las subastas más prestigiosas.\n",
    "* El diagnóstico correcto de un gran número de retinografías\n",
    "* Un número suficiente de inspecciones fiscales con resultado positivo de fraude\n",
    "    * De toda la información que tiene Hacienda ¿Cuáles elegimos?\n",
    "\n",
    "En segundo lugar, hay que tomar decisiones:\n",
    "\n",
    "* Encontrar el modelo adecuado\n",
    "* Elegir un algoritmo de entrenamiento\n",
    "* Elegir la métrica adecuada ¿Línea base?\n",
    "* *Tunear* el algoritmo de entrenamiento para conseguir buenos resultados\n",
    "    * Nuevos algoritmos de optimización\n",
    "        * Más rápidos que el desceso de gradiente que hemos visto\n",
    "        * Pero con más **hyperparámetros**\n",
    "\n",
    "Con el problema añadido de que el proceso de entrenamiento es iterativo, y, si el conjunto de datos de entrenamiento es grande y no tenemos suficiente potencia de cálculo, es un proceso **lento**.\n",
    "\n",
    "Muchas veces no queda más remedio que la **prueba y error**. Esto no es posible si el entrenamiento es **lento**\n",
    "\n",
    "Por eso, para que la fase de entrenamiento sea lo más rápida\n",
    "\n",
    "* La implementación de los algoritmos está muy optimizada (algoritmos vectorizados)\n",
    "* Se emplea mucha potencia de cálculo:\n",
    "    * GPUs\n",
    "    * Computación distribuida\n",
    "    \n",
    "    \n"
   ]
  },
  {
   "cell_type": "markdown",
   "metadata": {
    "slideshow": {
     "slide_type": "slide"
    }
   },
   "source": [
    "## Conseguir un conjunto de datos de entrenamiento suficiente\n",
    "¿Tenemos un conjunto de datos suficiente?\n",
    "* En *'horizontal'* (¿Tenemos suficintes variables?)\n",
    "* En *'vertical'* (¿Tenemos suficientes ejemplos?)  \n",
    "\n",
    "Puede ser muy costoso\n",
    "* Puede exigir colaboración entre **Negocio** y **Ciencia de datos**\n",
    "<img src=\"images/retinografia.jpg\" width=\"300\"/>\n",
    "* Puede ser muy laborioso\n",
    "<img src=\"images/image-segmentation.png\" width=\"400\"/>"
   ]
  },
  {
   "cell_type": "markdown",
   "metadata": {
    "slideshow": {
     "slide_type": "notes"
    }
   },
   "source": [
    "* Un organismo recaudador puede tener pocos ejemplos de fraude detectado como para entrenar un modelo de aprendizaje máquina\n",
    "* Además pueden estar registrados en lenguaje natural por los inspectores\n",
    "    * Previamente, aplicación de ténicas de NLP para extraer los datos de fraude"
   ]
  },
  {
   "cell_type": "markdown",
   "metadata": {
    "slideshow": {
     "slide_type": "slide"
    }
   },
   "source": [
    "## Conseguir un conjunto de datos de entrenamiento suficiente\n",
    "\n",
    "### El caso de uso de predicción de fraude fiscal\n",
    "\n",
    "<img src=\"images/FraudDetection.jpg\" width=\"1000\"/>\n"
   ]
  },
  {
   "cell_type": "markdown",
   "metadata": {
    "slideshow": {
     "slide_type": "notes"
    }
   },
   "source": [
    "A veces no tenemos suficientes ejemplos para entrenar un modelo, y es muy difícil obtener más. Por ejemplo, para entrenar un modelo para predecir fraude fiscal necesitamos muchos ejemplos de fraude, pero los inspectores de Hacienda no detectan muchos ... "
   ]
  },
  {
   "cell_type": "markdown",
   "metadata": {
    "slideshow": {
     "slide_type": "slide"
    }
   },
   "source": [
    "## Seleccionar un modelo adecuado ... y tunearlo\n",
    "\n",
    "* Elegir un modelo que se adapte bien al problema\n",
    "* Elegir las métricas\n",
    "* *Tunear* el algoritmo de entrenamiento (hiperparámetros)\n",
    "* Selección e Ingeniería de características\n",
    "    \n",
    "<img src=\"images/cientifico.jpeg\" width=\"600\"/>"
   ]
  },
  {
   "cell_type": "markdown",
   "metadata": {
    "slideshow": {
     "slide_type": "slide"
    }
   },
   "source": [
    "## Selección de características\n",
    "\n",
    "\n",
    "<img src=\"images/coeficientes.articulo.comparados.png\" width=\"1400\"/>\n",
    "\n"
   ]
  },
  {
   "cell_type": "markdown",
   "metadata": {
    "slideshow": {
     "slide_type": "notes"
    }
   },
   "source": [
    "¿Por qué el profesor usó esas variables y no otras? Seleccionar las variables es clave.\n",
    "* De echo, si os fijáis en el *paper* que publicó, incluyó otra variable: La temperatura media en el mes de septiembre, durante la cosecha, descubriendo que no era significativa, no influia en el precio"
   ]
  },
  {
   "cell_type": "markdown",
   "metadata": {
    "slideshow": {
     "slide_type": "slide"
    }
   },
   "source": [
    "# Ingeniería de características (Feature engieneering)\n",
    "\n",
    "### ¿En qué medía el precio el Profesor Ashenfelter? ###\n",
    "\n",
    "#### La representación de la información de los datos de entrenamiento es crucial\n",
    "* ¡Hay que facilitar la vida al modelo!\n",
    "\n",
    "\n",
    "<img src=\"images/log-precio.png\" width=\"2000\"/>\n"
   ]
  },
  {
   "cell_type": "markdown",
   "metadata": {
    "slideshow": {
     "slide_type": "notes"
    }
   },
   "source": [
    "No habíamos mencionado en qué unidad estaba el precio en la última columna de la tabla del profesor. \n",
    "* En lugar de los precios de los vinos lo que tenemos en la tabla es el *logaritmo* de los precios de los vinos.\n",
    "* ¡En realidad, la relación entre las variables y el precio no era lineal!\n",
    "    * De ahí la transformación. Solo con calcular el logaritmo del precio, se ajusta mucho mejor a un modelo lineal"
   ]
  },
  {
   "cell_type": "markdown",
   "metadata": {
    "slideshow": {
     "slide_type": "slide"
    }
   },
   "source": [
    "# Ingeniería de características (Feature engieneering)\n",
    "\n",
    "### Distancias entre variables para el enlazado de registros\n",
    "\n",
    "|&nbsp;|NOMBRE|APELLIDO 1|APELLIDO 2|\n",
    "|----|------|----------|----------|\n",
    "|BD 1|FERNANDO|IZCO|GARCIA|\n",
    "|BD 2|FRENANDO|IZCO|GRACIAS|\n",
    "\n",
    "|&nbsp;|NOMBRE|APELLIDO 1|APELLIDO 2|\n",
    "|----|------|----------|----------|\n",
    "|BD 1|FERNANDO|IZCO|GARCIA|\n",
    "|BD 2|FRENANDO|IZCO|GRACIAS|\n",
    "|DISTANCIA|1|0|2|\n",
    "\n"
   ]
  },
  {
   "cell_type": "markdown",
   "metadata": {
    "slideshow": {
     "slide_type": "notes"
    }
   },
   "source": [
    "En lugar de usar directamente las variables que identifican a una persona como características del modelo de aprendizaje máquina, construimos una característica sintetica: la distancia entre las variables (número de caracteres a añadir, quitar o intercambiar para obtener el mismo valor)"
   ]
  },
  {
   "cell_type": "markdown",
   "metadata": {
    "slideshow": {
     "slide_type": "slide"
    }
   },
   "source": [
    "# Ingeniería de características (Feature engieneering)\n",
    "\n",
    "### Distancias entre variables para el enlazado de registros\n",
    "\n",
    "|&nbsp;   |NOMBRE|APELLIDO 1|APELLIDO 2|\n",
    "|----|------|----------|----------|\n",
    "|BD 1|JOSE ANTONIO PEREZ|&nbsp;|&nbsp;|\n",
    "|BD 2|JOSE|ANTONIO|PEREZ|\n",
    "|DISTANCIA|13|7|5|\n",
    "\n",
    "|&nbsp;   |NOMBRE|APELLIDO 1|APELLIDO 2|NOMBRE COMPLETO|\n",
    "|----|------|----------|----------|---------------|\n",
    "|BD 1|JOSE ANTONIO PEREZ|&nbsp;|&nbsp;|JOSE ANTONIO PEREZ|\n",
    "|BD 2|JOSE|ANTONIO|PEREZ|JOSE ANTONIO PEREZ|\n",
    "|DISTANCIA|13|7|5|0|\n"
   ]
  },
  {
   "cell_type": "markdown",
   "metadata": {
    "slideshow": {
     "slide_type": "notes"
    }
   },
   "source": [
    "Es muy común encontrar errores en BDs donde la fuente original es la entrada manual por parte de personas. Construir una característica sintética para el nombre completo facilita mucho la vida al modelo a la hora de identificar patrones."
   ]
  },
  {
   "cell_type": "markdown",
   "metadata": {
    "slideshow": {
     "slide_type": "slide"
    }
   },
   "source": [
    "## Entrenar el modelo\n",
    "\n",
    "    \n",
    "<img src=\"images/cpd.jpg\" width=\"1400\"/>"
   ]
  },
  {
   "cell_type": "markdown",
   "metadata": {
    "slideshow": {
     "slide_type": "notes"
    }
   },
   "source": [
    "El proceso de entrenamiento es iterativo: experimentación, prueba y error. \n",
    "* Si el conjunto de datos de entrenamiento es grande y no tenemos suficiente potencia de cálculo\n",
    "    * Es **un proceso lento**, lo cual dificulta la experimentación"
   ]
  },
  {
   "cell_type": "markdown",
   "metadata": {
    "slideshow": {
     "slide_type": "slide"
    }
   },
   "source": [
    "## Evaluación del modelo\n",
    "\n",
    "* Medir los resultados\n",
    "* Repetir todo el proceso, si no estamos satisfechos\n",
    "\n",
    "## Curva de aprendizaje\n",
    "\n",
    "<img src=\"images/perdida-iteraciones.png\" width=\"1000\"/>\n"
   ]
  },
  {
   "cell_type": "markdown",
   "metadata": {
    "slideshow": {
     "slide_type": "slide"
    }
   },
   "source": [
    "## Evaluación del modelo\n",
    "\n",
    "### Línea base\n",
    "\n",
    "Imaginad que los *'expertos'* hubiesen hecho predicciones del precio que iban a alcanzar los vinos en el futuro \n",
    "\n",
    "<img src=\"images/linea-base.png\" style=\"width: 1200px;\" align=\"middle\"/> \n",
    "\n",
    "* Una línea base nos permite medir el resultado de nuestro modelo desde el principio\n",
    "* En las siguientes iteraciones mediremos el resultado con los anteriores resultados"
   ]
  },
  {
   "cell_type": "markdown",
   "metadata": {
    "slideshow": {
     "slide_type": "slide"
    }
   },
   "source": [
    "## Evaluación del modelo\n",
    "\n",
    "### Métricas\n",
    "\n",
    "Nos dan una idea de lo **bien o mal** que funciona nuestro modelo\n",
    "* Dan más información que la función de pérdida\n",
    "* Dependen de la **tipología del problema** que estamos intentando resolver.\n",
    "\n",
    "¿Qué tiene mayor **coste** en la ayuda al diagnóstico de cancer, un falso positivo o un falso negativo?\n",
    "    \n",
    "<img src=\"images/tumor.jpg\" width=\"500\"/>    \n"
   ]
  },
  {
   "cell_type": "markdown",
   "metadata": {
    "slideshow": {
     "slide_type": "notes"
    }
   },
   "source": [
    "## Evaluación del modelo\n",
    "\n",
    "### Métricas\n",
    "\n",
    "Nos dan una idea de lo **bien o mal** que funciona nuestro modelo.\n",
    "* Dan más información que la **función de pérdida**\n",
    "* Dependen de la **tipología del problema** que estamos intentando resolver.\n",
    "    * Por ejemplo, en un problema de regresión puede servirnos el error medio cuadrático\n",
    "    * Pero en un problema de clasificación podemos preferir el **porcentaje de clasificaciones correctas**\n",
    "        * Y podemos necesitar diferenciar entre **falsos positivos y falsos negativos**\n",
    "            * Si un sistema de diagnóstico predice cancer en alguien que no lo tiene (falso positivo)\n",
    "            * Predice que no tienen cancer alguien que lo tiene (falso negativo)"
   ]
  },
  {
   "cell_type": "markdown",
   "metadata": {
    "slideshow": {
     "slide_type": "slide"
    }
   },
   "source": [
    "## Evaluación del modelo\n",
    "\n",
    "### Separación entre el conjunto de entrenamiento y el conjunto de validación\n",
    "\n",
    "#### ¿Por qué los 'expertos' catadores no confiaban en el método del Profesor Ashenfelter? ###\n",
    "\n",
    "#### Si medimos el error aplicado al conjunto de datos de entrenamiento ¿Qué garantía tenemos de que el modelo va a generalizar bien? ###\n",
    "\n",
    "\n",
    "\n",
    "<img src=\"images/data-sets-2.png\" width=\"800\"/>   \n"
   ]
  },
  {
   "cell_type": "markdown",
   "metadata": {
    "slideshow": {
     "slide_type": "notes"
    }
   },
   "source": [
    "## Evaluación del modelo\n",
    "\n",
    "### Separación entre el conjunto de entrenamiento y el conjunto de validación\n",
    "\n",
    "Estamos entrenando el modelo con los datos del conjunto de entrenamiento. Si la métrica que nos dice si el modelo funciona bien la estamos aplicando sobre los mismos datos de entrenamiento ... ¿Qué garantía tenemos de que el modelo va funcionar con datos que no ha visto, que va a **generalizar** bien?\n",
    "\n",
    "Lo único que podemos hacer es **separar** una parte de los datos y no entrenar el modelo con ellos, usar ese subconjunto para **validar** el modelo. Si funciona bien para esos datos que no ha visto, nos da garantía de que va a **generalizar** bien."
   ]
  },
  {
   "cell_type": "markdown",
   "metadata": {
    "slideshow": {
     "slide_type": "slide"
    }
   },
   "source": [
    "## Evaluación del modelo\n",
    "\n",
    "### Separación entre el conjunto de entrenamiento y el conjunto de validación\n",
    "\n",
    "#### Incluso podemos tener un subconjunto de datos secreto, para pruebas finales\n",
    "Es lo que hace <img src=\"images/kaggle-logo.png\" width=\"100\"/>\n",
    "\n",
    "<img src=\"images/data-sets.png\" width=\"800\"/>\n",
    "\n",
    " \n",
    "\n",
    "\n"
   ]
  },
  {
   "cell_type": "markdown",
   "metadata": {
    "slideshow": {
     "slide_type": "slide"
    }
   },
   "source": [
    "## Evaluación del modelo\n",
    "### Uso de la curva de aprendizaje para detectar problemas\n",
    "\n",
    "#### Cómo interpretar el gráfico de pérdida en función del entrenamiento\n",
    "* Aplicado al conjunto de datos de **entrenamiento** y al conjunto de datos de **validación**\n",
    "\n",
    "<img src=\"images/rafa.0.png\" width=\"400\"/>"
   ]
  },
  {
   "cell_type": "markdown",
   "metadata": {
    "slideshow": {
     "slide_type": "notes"
    }
   },
   "source": [
    "## Evaluación del modelo\n",
    "## Uso de la curva de aprendizaje para detectar problemas\n",
    "\n",
    "Un símil deportivo para **interpretar** el gráfico de pérdida en función del entrenamiento\n",
    "* Aplicado al conjunto de datos de **entrenamiento** y al conjunto de datos de **validación**\n",
    "\n",
    "Hace unos años (1998, el siglo pasado), durante unas vacaciones en Mallorca mi buen amigo Sebastián me dice\n",
    "- Tu tienes el título de técnico deportivo ¿verdad?\n",
    "- Pues sí\n",
    "- Te quería pedir un favor. Creo que mi hijo rafa tiene talento para el deporte. Le he apuntado a un campeonato de tenis juvenil en el pueblo, y me gustaría que entrenara un poco contigo, para que no haga el ridículo\n",
    "- Buenos, el tenis no es lo mío, pero encantado\n",
    "\n",
    "\n",
    "Para saber más:\n",
    "\n",
    "https://towardsdatascience.com/understanding-the-bias-variance-tradeoff-165e6942b229"
   ]
  },
  {
   "cell_type": "markdown",
   "metadata": {
    "slideshow": {
     "slide_type": "slide"
    }
   },
   "source": [
    "\n",
    "<img src=\"images/rafa.3.png\" width=\"800\"/>"
   ]
  },
  {
   "cell_type": "markdown",
   "metadata": {
    "slideshow": {
     "slide_type": "notes"
    }
   },
   "source": [
    "El plan de entrenamiento era el siguiente:\n",
    "- Entrenar juntos técnicas básicas\n",
    "- Jugar juntos en un partido el día antes de cada partido del campeonato"
   ]
  },
  {
   "cell_type": "markdown",
   "metadata": {
    "slideshow": {
     "slide_type": "slide"
    }
   },
   "source": [
    "\n",
    "<img src=\"images/rafa.2.jpg\" width=\"400\"/>"
   ]
  },
  {
   "cell_type": "markdown",
   "metadata": {
    "slideshow": {
     "slide_type": "notes"
    }
   },
   "source": [
    "Pero el chaval se había echado una novieta y no ponía demasiado interés ..."
   ]
  },
  {
   "cell_type": "markdown",
   "metadata": {
    "slideshow": {
     "slide_type": "slide"
    }
   },
   "source": [
    "\n",
    "<img src=\"images/rafa.8.png\" width=\"800\"/>"
   ]
  },
  {
   "cell_type": "markdown",
   "metadata": {
    "slideshow": {
     "slide_type": "notes"
    }
   },
   "source": [
    "La cosa no funcionó. En cada partido de entrenamiento yo le daba una paliza ..."
   ]
  },
  {
   "cell_type": "markdown",
   "metadata": {
    "slideshow": {
     "slide_type": "slide"
    }
   },
   "source": [
    "<img src=\"images/rafa.1.jpg\" width=\"800\"/>"
   ]
  },
  {
   "cell_type": "markdown",
   "metadata": {
    "slideshow": {
     "slide_type": "notes"
    }
   },
   "source": [
    "Y en cada partido del campeonato al pobre Rafa le daban una paliza."
   ]
  },
  {
   "cell_type": "markdown",
   "metadata": {
    "slideshow": {
     "slide_type": "slide"
    }
   },
   "source": [
    "## Underfitting (falta de ajuste)\n",
    "Ocurre cuando un modelo es incapaz de detectar los patrones en los datos. Esto ocurre\n",
    "* Si no tenemos suficientes datos de entrenamiento **representativos**\n",
    "* Si el modelo \n",
    "    * No está bien 'tuneado' \n",
    "    * O no es lo bastante complejo\n",
    "\n",
    "<img src=\"images/underfitting.png\" width=\"800\"/>    \n",
    "\n",
    "¿Cómo se arregla esto?\n",
    "* Recopilando **más y mejores datos de entrenamiento**\n",
    "* Probando con otros **hiper-parámetros**\n",
    "* Buscando un **modelo más complejo**, que se adapte mejor al problema\n"
   ]
  },
  {
   "cell_type": "markdown",
   "metadata": {
    "slideshow": {
     "slide_type": "notes"
    }
   },
   "source": [
    "Es un caso de falta de ajuste. No está aprendiendo casi nada.\n",
    "* La curva de aprendizaje en los partidos contra mí lo demuestra\n",
    "* Idem con los partidos del campeonato"
   ]
  },
  {
   "cell_type": "markdown",
   "metadata": {
    "slideshow": {
     "slide_type": "slide"
    }
   },
   "source": [
    "\n",
    "<img src=\"images/rafa.9.png\" width=\"800\"/>"
   ]
  },
  {
   "cell_type": "markdown",
   "metadata": {
    "slideshow": {
     "slide_type": "notes"
    }
   },
   "source": [
    "Al año siguiente, Rafa me promete que se lo va a tomar en serio. Y esta vez:\n",
    "* Jugando contra mí, ya veo progresos.\n",
    "* Tiene talento, enseguida se ha dado cuenta de que\n",
    "    * Soy materialmente incapaz de subir a la red\n",
    "    * Si me hace correr un poco por la pista, me desfondo\n",
    "\n",
    "En los partidos de entrenamiento contra mí, empieza a ganarme cada vez con más facilidad"
   ]
  },
  {
   "cell_type": "markdown",
   "metadata": {
    "slideshow": {
     "slide_type": "slide"
    }
   },
   "source": [
    "\n",
    "<img src=\"images/rafa.1.jpg\" width=\"800\"/>"
   ]
  },
  {
   "cell_type": "markdown",
   "metadata": {
    "slideshow": {
     "slide_type": "notes"
    }
   },
   "source": [
    "Pero una vez más, en los partidos del campeonato de verano, su rendimiento es lamentable ..."
   ]
  },
  {
   "cell_type": "markdown",
   "metadata": {
    "slideshow": {
     "slide_type": "slide"
    }
   },
   "source": [
    "## Overfitting (sobreajuste)\n",
    "Ocurre cuando un modelo encuentra patrones demasiado ajustados a los datos de entrenamiento, pero no generaliza bien.\n",
    "* Si no tenemos suficientes datos de enrenamiento **representativos**\n",
    "* Si el modelo es complejo y tiende al sobreajuste\n",
    "\n",
    "<img src=\"images/overfitting.png\" width=\"800\"/>\n"
   ]
  },
  {
   "cell_type": "markdown",
   "metadata": {
    "slideshow": {
     "slide_type": "notes"
    }
   },
   "source": [
    "Algo a aprendido, pero no le sirve de mucho ...\n",
    "\n",
    "Los patrones que ha aprendido jugando contra mí (dejadas a la red, hacerme correr) no le sirven de casi nada contra jugadores más jovenes.\n",
    "\n",
    "\n",
    "(Modelo complejo que tiende al sobreajuste)\n",
    "\n",
    "\n",
    "¿Cómo se arregla esto?\n",
    "* Recopilando **más y mejores datos de entrenamiento**\n",
    "* Con técnicas de **regulación**"
   ]
  },
  {
   "cell_type": "markdown",
   "metadata": {
    "slideshow": {
     "slide_type": "slide"
    }
   },
   "source": [
    "<img src=\"images/rafa.4.png\" width=\"800\"/>"
   ]
  },
  {
   "cell_type": "markdown",
   "metadata": {
    "slideshow": {
     "slide_type": "notes"
    }
   },
   "source": [
    "Al año siguiente, año 2000, organicé una **escuela de verano**, para que Rafa entrenara con **varios jugadores de nivel**.\n",
    "\n",
    "Y así sí que lo conseguimos. Durante los partidos de entrenamiento, su rendimiento iba en aumento ..."
   ]
  },
  {
   "cell_type": "markdown",
   "metadata": {
    "slideshow": {
     "slide_type": "slide"
    }
   },
   "source": [
    "\n",
    "<img src=\"images/rafa.as.jpg\" width=\"400\"/>"
   ]
  },
  {
   "cell_type": "markdown",
   "metadata": {
    "slideshow": {
     "slide_type": "notes"
    }
   },
   "source": [
    "Y ganó el campeonato con facilidad :)\n",
    "\n",
    "Por cierto, las fotos de Rafa Nadal jugando contra mí son falsas, son un *deep fake* de esos :)"
   ]
  },
  {
   "cell_type": "markdown",
   "metadata": {
    "slideshow": {
     "slide_type": "slide"
    }
   },
   "source": [
    "## Un modelo ajustado\n",
    "\n",
    "<img src=\"images/fit.png\" width=\"800\"/>\n"
   ]
  },
  {
   "cell_type": "markdown",
   "metadata": {
    "slideshow": {
     "slide_type": "notes"
    }
   },
   "source": [
    "Eso es lo que buscamos: un modelo **ajustado**."
   ]
  },
  {
   "cell_type": "markdown",
   "metadata": {
    "slideshow": {
     "slide_type": "slide"
    }
   },
   "source": [
    "## Interpretabilidad de un modelo\n",
    "\n",
    "### Detección de fraude fiscal\n",
    "<img src=\"images/FraudDetection.jpg\" width=\"400\"/>\n",
    "\n",
    "### Detección de patologías\n",
    "<img src=\"images/tumor.jpg\" width=\"400\"/>\n"
   ]
  },
  {
   "cell_type": "markdown",
   "metadata": {
    "slideshow": {
     "slide_type": "notes"
    }
   },
   "source": [
    "* Los inspectores de hacienda necesitan interpretar una detección de fraude de un modelo de ML\n",
    "* Los facultativos necesitan interpretar una detección de una patología"
   ]
  },
  {
   "cell_type": "markdown",
   "metadata": {
    "slideshow": {
     "slide_type": "slide"
    }
   },
   "source": [
    "## Interpretabilidad de un modelo\n",
    "\n",
    "### Un modelo interpretable: árboles de decisión\n",
    "\n",
    "Los árboles de decisión son un ejemplo de modelo interpretable\n",
    "\n",
    "<img src=\"images/arbol.decision.png\" width=\"800\"/>"
   ]
  },
  {
   "cell_type": "markdown",
   "metadata": {
    "slideshow": {
     "slide_type": "notes"
    }
   },
   "source": [
    "A veces hay que sacrificar precisión por interpretabilidad: IBM nos contaba que en un sistema que detección de fraude que desarrollaron para la agencia tributaria encontraron que un modelo basado en redes neuronales era algo más preciso que el basado en árboles de decisión, pero prefirieron éste porque es interpretable."
   ]
  },
  {
   "cell_type": "markdown",
   "metadata": {
    "slideshow": {
     "slide_type": "slide"
    }
   },
   "source": [
    "## Resumen: claves del aprendizaje máquina supervisado\n",
    "\n",
    "### Conseguier un buen modelo de aprendizaje máquina puede no ser trivial. \n",
    "Tendremos que:\n",
    "* Conseguir un conjunto de **datos de entrenamiento** representativo\n",
    "    * **Seleccionar** las características de entrada\n",
    "    * **Ingeniería** de características (facilitar la vida al modelo)\n",
    "* Elegir la o las **métricas** que se adaptan a nuestro problema\n",
    "* Seleccionar y 'tunear' un **modelo**\n",
    "    * Apropiado para nuestro problema. Por ejemplo ¿Necesitamos que sea **interpretable**?\n",
    "* **Entrenar** el modelo \n",
    "* **evaluar** el resultado\n",
    "    * separando datos de entrenamiento de datos de validación\n",
    "* Y vuelta a empezar ... \n"
   ]
  },
  {
   "cell_type": "markdown",
   "metadata": {
    "slideshow": {
     "slide_type": "slide"
    }
   },
   "source": [
    "## ¿Podré resolver mi problema con aprendizaje máquina supervisado?\n",
    "\n",
    "### ¿Los datos del conjunto de entrenamiento son representativos?\n",
    "### ¿Habrá algún modelo adecuado a mi problema?\n",
    "\n",
    "#### En general, no lo sabemos:\n",
    "* Experimentación\n",
    "* Ciencia de datos\n",
    "\n",
    "#### Eso sí:\n",
    "* Si un experto humano puede resolver el problema con los datos de entrenamiento\n",
    "    * Y creemos que tenemos suficientes datos\n",
    "* Es muy posible que se pueda resolver con aprendizaje máquina"
   ]
  },
  {
   "cell_type": "markdown",
   "metadata": {
    "slideshow": {
     "slide_type": "slide"
    }
   },
   "source": [
    "## kaggle ##\n",
    "\n",
    "<img src=\"images/kaggle.png\" width=\"1200\"/>"
   ]
  },
  {
   "cell_type": "markdown",
   "metadata": {
    "slideshow": {
     "slide_type": "notes"
    }
   },
   "source": [
    "### Kaggle, un sitio web de concursos de aprendizaje máquina\n",
    "* Organizaciones y empresas proporcionan el conjunto de datos de entrenamiento y el de evaluación\n",
    "* Ofrecen un premio\n",
    "    * Monetario\n",
    "    * Un puesto de trabajo\n",
    "* Evalúan el resultado contra un conjunto de datos de prueba secreto\n",
    "\n",
    "### OPORTUNIDAD\n",
    "* Muy útil cuando te estás formando: eliges un concurso ya terminado y comparas tu resultado\n",
    "* Es una forma económica de encontrar el mejor modelo"
   ]
  }
 ],
 "metadata": {
  "celltoolbar": "Slideshow",
  "kernelspec": {
   "display_name": "Python 3",
   "language": "python",
   "name": "python3"
  },
  "language_info": {
   "codemirror_mode": {
    "name": "ipython",
    "version": 3
   },
   "file_extension": ".py",
   "mimetype": "text/x-python",
   "name": "python",
   "nbconvert_exporter": "python",
   "pygments_lexer": "ipython3",
   "version": "3.7.3"
  },
  "nbpresent": {
   "slides": {
    "7f242b9d-99db-4820-9224-1940306010e1": {
     "id": "7f242b9d-99db-4820-9224-1940306010e1",
     "prev": "b5b2f9a1-71c7-4a8c-8449-99d1d43ea979",
     "regions": {
      "dc5f27e0-7d6a-4f24-9216-d7b6fda424bc": {
       "attrs": {
        "height": 0.8,
        "width": 0.8,
        "x": 0.1,
        "y": 0.1
       },
       "content": {
        "cell": "c03a1e0a-7216-4153-b942-9bf744018b38",
        "part": "whole"
       },
       "id": "dc5f27e0-7d6a-4f24-9216-d7b6fda424bc"
      }
     }
    },
    "84a7b934-f637-4a9c-b526-69786196c099": {
     "id": "84a7b934-f637-4a9c-b526-69786196c099",
     "prev": "7f242b9d-99db-4820-9224-1940306010e1",
     "regions": {
      "6d19c0dc-8cf3-4741-8923-010d6b872f4c": {
       "attrs": {
        "height": 0.8,
        "width": 0.8,
        "x": 0.1,
        "y": 0.1
       },
       "content": {
        "cell": "c77c2be8-60c8-4b42-9dc4-d71498a3a9ab",
        "part": "whole"
       },
       "id": "6d19c0dc-8cf3-4741-8923-010d6b872f4c"
      }
     }
    },
    "9117909e-8a9c-45ff-9a20-cf93b75b700c": {
     "id": "9117909e-8a9c-45ff-9a20-cf93b75b700c",
     "prev": "a42dff4d-9d8e-40d0-b4be-c48ed4f73845",
     "regions": {
      "aaf0281b-7a95-477e-9020-2ff151a08c6f": {
       "attrs": {
        "height": 0.8,
        "width": 0.8,
        "x": 0.1,
        "y": 0.1
       },
       "content": {
        "cell": "edfae9bc-3c4d-43b6-9254-d58e68dd226c",
        "part": "whole"
       },
       "id": "aaf0281b-7a95-477e-9020-2ff151a08c6f"
      }
     }
    },
    "a42dff4d-9d8e-40d0-b4be-c48ed4f73845": {
     "id": "a42dff4d-9d8e-40d0-b4be-c48ed4f73845",
     "prev": "a4c9baca-c166-4ad9-bf37-34b5c6dbac9d",
     "regions": {
      "c3d5d2fe-17c5-42af-81ab-3a0373373f29": {
       "attrs": {
        "height": 0.8,
        "width": 0.8,
        "x": 0.1,
        "y": 0.1
       },
       "content": {
        "cell": "ac8bea6c-33c4-44b3-a447-5383ca3cd615",
        "part": "whole"
       },
       "id": "c3d5d2fe-17c5-42af-81ab-3a0373373f29"
      }
     }
    },
    "a4c9baca-c166-4ad9-bf37-34b5c6dbac9d": {
     "id": "a4c9baca-c166-4ad9-bf37-34b5c6dbac9d",
     "prev": "d281b63f-89a5-4a4a-b516-8352f40d2591",
     "regions": {
      "23ccdb2f-68be-4537-86cb-d94232475bf3": {
       "attrs": {
        "height": 0.8,
        "width": 0.8,
        "x": 0.1,
        "y": 0.1
       },
       "content": {
        "cell": "08ff9e7b-7d21-4c27-97e0-f87b618c4033",
        "part": "whole"
       },
       "id": "23ccdb2f-68be-4537-86cb-d94232475bf3"
      }
     }
    },
    "acf0e45e-1534-478f-8b7a-32227ea62e92": {
     "id": "acf0e45e-1534-478f-8b7a-32227ea62e92",
     "prev": "9117909e-8a9c-45ff-9a20-cf93b75b700c",
     "regions": {
      "3fb838cd-c496-4857-8e4d-68e1eda403bf": {
       "attrs": {
        "height": 0.8,
        "width": 0.8,
        "x": 0.1,
        "y": 0.1
       },
       "content": {
        "cell": "8c2f151b-5c64-4958-a3c5-b0f405bc6d6d",
        "part": "whole"
       },
       "id": "3fb838cd-c496-4857-8e4d-68e1eda403bf"
      }
     }
    },
    "b5b2f9a1-71c7-4a8c-8449-99d1d43ea979": {
     "id": "b5b2f9a1-71c7-4a8c-8449-99d1d43ea979",
     "prev": null,
     "regions": {
      "2505cf6d-d330-44bd-930d-b4ee7e2b0934": {
       "attrs": {
        "height": 0.8,
        "width": 0.8,
        "x": 0.1,
        "y": 0.1
       },
       "content": {
        "cell": "a3a55243-7a8b-471b-a752-2198cdb1b0db",
        "part": "whole"
       },
       "id": "2505cf6d-d330-44bd-930d-b4ee7e2b0934"
      }
     }
    },
    "d281b63f-89a5-4a4a-b516-8352f40d2591": {
     "id": "d281b63f-89a5-4a4a-b516-8352f40d2591",
     "prev": "84a7b934-f637-4a9c-b526-69786196c099",
     "regions": {
      "5d2eff4d-ae77-4a2d-a4e2-e6ca74812eaf": {
       "attrs": {
        "height": 0.8,
        "width": 0.8,
        "x": 0.1,
        "y": 0.1
       },
       "content": null,
       "id": "5d2eff4d-ae77-4a2d-a4e2-e6ca74812eaf"
      }
     }
    }
   },
   "themes": {}
  }
 },
 "nbformat": 4,
 "nbformat_minor": 2
}
