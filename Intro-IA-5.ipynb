{
 "cells": [
  {
   "cell_type": "markdown",
   "metadata": {
    "slideshow": {
     "slide_type": "slide"
    }
   },
   "source": [
    "# Introducción a la Inteligencia Artificial\n",
    "\n",
    "\n",
    "<img src=\"images/Cartoon_Robot.svg.png\" width=\"200\"/>\n",
    "\n",
    "---\n",
    "Fernando Izco García  (fernando.izco.garcia@navarra.es)  \n",
    " Servicio de Avance Digital  \n",
    " Dirección General de Telecomunicaciones y Digitalización  \n",
    "<img src=\"images/logo.gn.png\" width=\"200\"/>"
   ]
  },
  {
   "cell_type": "markdown",
   "metadata": {
    "slideshow": {
     "slide_type": "slide"
    }
   },
   "source": [
    "# Introducción a la Inteligencia Artificial\n",
    "\n",
    "1. Primera parte\n",
    "    1. [Un ejemplo como introducción](Intro-IA-1.ipynb)\n",
    "    1. [Definición y casos de uso](Intro-IA-2.ipynb)\n",
    "1. Segunda parte\n",
    "    1. [Claves del aprendizaje supervisado](Intro-IA-3.ipynb)\n",
    "    1. [Claves del aprendizaje profundo](Intro-IA-4.ipynb)\n",
    "    1. **Ética e IA**\n",
    "\n",
    "\n",
    "[<img src=\"images/youtube.png\" width=\"30\"  align=\"left\"/>](https://youtu.be/x6qu6rUigCk)\n",
    "[Video de este capítulo en YouTube](https://youtu.be/x6qu6rUigCk)"
   ]
  },
  {
   "cell_type": "markdown",
   "metadata": {
    "slideshow": {
     "slide_type": "slide"
    }
   },
   "source": [
    "# Ética en IA\n",
    "\n",
    "## \"No sólo es posible que TÚ MISMO estés involucrado en Inteligencia Artificial, es que es CRUCIAL que lo estés\"\n",
    "* Para aprovechar las oportunidades\n",
    "* Y mitigar los riesgos\n",
    "\n",
    "Rachel Thomas P.h.D. (fast.ai) https://www.fast.ai/\n",
    "\n",
    "<img src=\"images/Rachel.Thomas.TEDxSanFrancisco.png\" width=\"800\"/>  \n",
    "\n",
    "https://www.youtube.com/watch?v=LqjP7O9SxOM\n"
   ]
  },
  {
   "cell_type": "markdown",
   "metadata": {
    "slideshow": {
     "slide_type": "notes"
    }
   },
   "source": [
    "Esta parte de la presentación está basada en esta charla TED de Rachel Thomas, de fast.ai\n",
    "\n",
    "fast.ai es una organización que defiende que la IA es para todo el mundo.\n",
    "* Una librería de alto nivel de abstracción, con una mínima curva de aprendizaje\n",
    "* Unos cursos online de libre acceso\n",
    "\n",
    "Uno de las oportunidades que encuentran en la extensión del uso de la IA es mitigar los riesgos éticos del uso de estas tecnologías."
   ]
  },
  {
   "cell_type": "markdown",
   "metadata": {
    "slideshow": {
     "slide_type": "slide"
    }
   },
   "source": [
    "# 1 - La AI está magnificando el sesgo humano\n",
    "\n",
    "<img src=\"images/profesiones.1.png\" width=\"1400\"/>"
   ]
  },
  {
   "cell_type": "markdown",
   "metadata": {
    "slideshow": {
     "slide_type": "notes"
    }
   },
   "source": [
    "### La AI está magnificando el sesgo humano\n",
    "\n",
    "Una de las **similitudes** entre la inteligencia artificial y la inteligencia natural es que, en algunos casos, las inteligencias artificiales aprenden de forma parecida a como aprendemos los animales: **aprenden con ejemplos**. \n",
    "\n",
    "Imaginad a un grupo de chiquillos que están en el cole aprendiendo las profesiones. La profesora les enseña un dibujo de un señor con bata y estetoscopio y algunos niños gritan **¡Médico!** Una señora ante una pizarra **¡Maestra!** Y así, sucesivamente.\n",
    "\n",
    "La memoria de los niños **no es fotográfica**, no recuerdan cada detalle de cada dibujo, lo que su mente aprende es **un patrón**, la esencia que diferencia el dibujo de una profesión de otro, por eso son capaces de reconocer una profesión en un dibujo que no han visto antes."
   ]
  },
  {
   "cell_type": "markdown",
   "metadata": {
    "slideshow": {
     "slide_type": "slide"
    }
   },
   "source": [
    "<img src=\"images/profesiones.2.png\" width=\"1400\"/>"
   ]
  },
  {
   "cell_type": "markdown",
   "metadata": {
    "slideshow": {
     "slide_type": "notes"
    }
   },
   "source": [
    "Si los ejemplos con los que aprenden los niños están sesgados, van a aprender un **patrón incorrecto**. Por ejemplo, si todos los dibujos de médicos llevan bata blanca, tendrán dificultad en reconocer a un médico (cirujano) con bata verde. Y, por supuesto, si todos los médicos son hombres, el patrón será, además de incorrecto, **discriminatorio**."
   ]
  },
  {
   "cell_type": "markdown",
   "metadata": {
    "slideshow": {
     "slide_type": "slide"
    }
   },
   "source": [
    "<img src=\"images/yolo2.jpg\" width=\"1400\"/>"
   ]
  },
  {
   "cell_type": "markdown",
   "metadata": {
    "slideshow": {
     "slide_type": "notes"
    }
   },
   "source": [
    "Los sistemas más populares de Inteligencia Artificial aprenden de manera similar: a partir de un conjunto de ejemplos son capaces de aprender a reconocer un patrón, y distinguir, por ejemplo, coches, motocicletas, peatones, bicicletas, a partir de imágenes de ejemplo proporcionadas durante el entrenamiento. Si entre los ejemplos **faltan imágenes de un tipo concreto de vehículo, por ejemplo, motocicletas**, el patrón aprendido será incorrecto y el sistema confundirá, probablemente, bicicletas con motocicletas.\n",
    "\n",
    "Por supuesto, si un sistema de Inteligencia Artificial se emplea en el ámbito de las relaciones humanas, **un patrón sesgado puede llevar a la discriminación**."
   ]
  },
  {
   "cell_type": "markdown",
   "metadata": {
    "slideshow": {
     "slide_type": "slide"
    }
   },
   "source": [
    "<img src=\"images/coursera.bias.png\" width=\"1400\"/>\n",
    "\n",
    "\n",
    "https://www.coursera.org/specializations/deep-learning"
   ]
  },
  {
   "cell_type": "markdown",
   "metadata": {
    "slideshow": {
     "slide_type": "notes"
    }
   },
   "source": [
    "Confieso que cuando oí hablar por primera vez del sesgo discriminatorio en sistemas de aprendizaje máquina. Pensé **¡Alarmistas!** Al fin y al cabo es un problema técnico, **no puede ser tan grave**\n",
    "\n",
    "La primera vez que tomé conciencia fue siguiendo el programa de cursos de aprendizaje profundo del profesor Andrew Yang\n",
    "* Dedica un capítulo al problema de sesgo en la tecnología de NLP \"Word embeddings\"\n",
    "    * Hombre es a Mujer como Rey es a ... Reina\n",
    "    * Hombre es a Programador de computadoras como mujer es a ... Ama de casa\n",
    "    * Padre es a Doctor como Madre es a ... Enfermera\n",
    "    \n",
    "El modelo de IA está reflejando el sesgo de género del texto utilizado para entrenarlo"
   ]
  },
  {
   "cell_type": "markdown",
   "metadata": {
    "slideshow": {
     "slide_type": "slide"
    }
   },
   "source": [
    "<img src=\"images/accidente.png\" width=\"800\"/>"
   ]
  },
  {
   "cell_type": "markdown",
   "metadata": {
    "slideshow": {
     "slide_type": "notes"
    }
   },
   "source": [
    "En los albores de la automoción, las primeras voces que alertaban de la necesidad de diseñar los automóviles pensando en la seguridad de los pasajeros eran tenidas por **alarmistas**, sobre todo por parte de **los fabricantes de automóviles**.\n",
    "\n",
    "**No es alarmismo, está ocurriendo**"
   ]
  },
  {
   "cell_type": "markdown",
   "metadata": {
    "slideshow": {
     "slide_type": "slide"
    }
   },
   "source": [
    "<img src=\"images/amazon.false.matches.png\" width=\"800\"/>"
   ]
  },
  {
   "cell_type": "markdown",
   "metadata": {
    "slideshow": {
     "slide_type": "notes"
    }
   },
   "source": [
    "Pues bien: En 2018,  La Unión Estadounidense por las Libertades Civiles (UCLA) demostró que el sistema **‘Rekognition’**, del gigante norteamericano **Amazon**, usado por varios departamentos norteamericanos de **policía**, identificó como criminales a **28 congresistas, la mayoría negros o latinos**.\n",
    "\n",
    "¡Y no lo eran!"
   ]
  },
  {
   "cell_type": "markdown",
   "metadata": {
    "slideshow": {
     "slide_type": "slide"
    }
   },
   "source": [
    "<img src=\"images/bias.facial.png\" width=\"800\"/>\n"
   ]
  },
  {
   "cell_type": "markdown",
   "metadata": {
    "slideshow": {
     "slide_type": "notes"
    }
   },
   "source": [
    "\n",
    "De hecho, investigadores del Instituto de Tecnología de Massachusetts demostraron que tanto Rekognition como **sistemas similares de IBM y Microsoft** funcionaban mucho mejor reconociendo a **hombres blancos** que a **mujeres negras**."
   ]
  },
  {
   "cell_type": "markdown",
   "metadata": {
    "slideshow": {
     "slide_type": "slide"
    }
   },
   "source": [
    "<img src=\"images/google.sesgo.jpg\" width=\"800\"/>"
   ]
  },
  {
   "cell_type": "markdown",
   "metadata": {
    "slideshow": {
     "slide_type": "notes"
    }
   },
   "source": [
    "Otro gigante, Google, tampoco se libra. En idioma turco los términos doctor y enfermera son neutros, no tienen género. Pues bien, en el traductor de Google, si traducías al turco la frase **‘she is a doctor, he is a nurse’** (ella es doctor, el es enfermero) y volvías a traducir del turco al ingles, el resultado era, como no, **‘he is a doctor, she is a nurse’** (el es doctor, ella es enfermera). No intentes reproducirlo, afortunadamente ya lo han corregido"
   ]
  },
  {
   "cell_type": "markdown",
   "metadata": {
    "slideshow": {
     "slide_type": "notes"
    }
   },
   "source": [
    "Estos dos ejemplos son **sistemas mal entrenados** porque los datos de entrenamiento estaban sesgados. En el caso del reconocimiento facial, seguramente había mas imágenes de ejemplo de hombres blancos que de mujeres negras. En el caso del traductor de Google, estos sistemas se entrenan con grandes conjuntos de texto, como por ejemplo la Wikipedia. Si el texto original tiene sesgo, el sistema lo incorpora.\n",
    "\n",
    "Parece incomprensible que **compañías de tal prestigio** puedan poner en producción **sistemas tan sesgados**. ¿Es, en realidad, un problema técnico? Sí, pero no detectarlo a tiempo no es un problema técnico. ¿Por qué ocurre?\n",
    "* Tal vez porque el entorno de investigación y desarrollo de IA es muy **exclusivo**\n",
    "    * Por ejemplo, sólo el 12% son mujeres"
   ]
  },
  {
   "cell_type": "markdown",
   "metadata": {
    "slideshow": {
     "slide_type": "slide"
    }
   },
   "source": [
    "# 2 - La IA se está usando MAL\n",
    "\n",
    "<img src=\"images/das-face.png\" width=\"800\"/>    \n",
    "\n",
    "https://www.das-nano.com/veridas/apis-veridas/"
   ]
  },
  {
   "cell_type": "markdown",
   "metadata": {
    "slideshow": {
     "slide_type": "notes"
    }
   },
   "source": [
    "das-nano desarrolla una excelente tecnología que reconoce personas aunque se pongan gafas o gorro, o se dejen barba, lo cual es perfecto para un sistema de control de acceso. "
   ]
  },
  {
   "cell_type": "markdown",
   "metadata": {
    "slideshow": {
     "slide_type": "slide"
    }
   },
   "source": [
    "\n",
    "\n",
    "<img src=\"images/reconocimiento.facial.jpg\" width=\"800\"/>    "
   ]
  },
  {
   "cell_type": "markdown",
   "metadata": {
    "slideshow": {
     "slide_type": "notes"
    }
   },
   "source": [
    "Estas técnicas de **reconocimiento facial avanzadas**, pueden ser usadas por **gobiernos no democráticos** para identificar a opositores que se ocultan al manifestarse"
   ]
  },
  {
   "cell_type": "markdown",
   "metadata": {
    "slideshow": {
     "slide_type": "slide"
    }
   },
   "source": [
    "\n",
    "<img src=\"images/apolo11.fake.png\" width=\"800\"/> "
   ]
  },
  {
   "cell_type": "markdown",
   "metadata": {
    "slideshow": {
     "slide_type": "notes"
    }
   },
   "source": [
    "\n",
    "Por ejemplo\n",
    "* El algoritmo de recomendación de Youtube está diseñado para maximizar el tiempo del usuario en la plataforma, porque así ganan más dinero. Esto lleva a que las **fake news**, o las **teorías de la conspiración**, que son muy llamativas, estén entre las primeras recomendaciones"
   ]
  },
  {
   "cell_type": "markdown",
   "metadata": {
    "slideshow": {
     "slide_type": "slide"
    }
   },
   "source": [
    "<img src=\"images/tumor.jpg\" width=\"800\"/>    "
   ]
  },
  {
   "cell_type": "markdown",
   "metadata": {
    "slideshow": {
     "slide_type": "notes"
    }
   },
   "source": [
    "* Los sistemas de IA son más económicos que sus homólogos basados en personas. En algunos casos las **empresas 'sacan de la ecuación' a los humanos** para **educir costes** de manera poco ética. Por ejemplo, en **sistemas de salud privados**, dejando que las IAs se encarguen de diagnosticar con poca supervisión humana a los pacientes con menos recursos, y reservando a los médicos humanos para los más ricos.\n",
    "\n",
    "\n",
    "* Pasa lo mismo con aseguradoras o empresas de recursos humanos, etc."
   ]
  },
  {
   "cell_type": "markdown",
   "metadata": {
    "slideshow": {
     "slide_type": "slide"
    }
   },
   "source": [
    "## ¿Qué podemos hacer?\n",
    "\n",
    "Las personas que participamos en el diseño, construcción o validación (control de calidad) de sistemas de IA\n",
    "\n",
    "* Tenemos la **responsabilidad** de que dichos sistemas no hereden el sesgo humano.\n",
    "    * No deja de ser un problema técnico\n",
    "* Debemos intentar, dentro de nuestras posibilidades, que los sistemas de IA se usen de manera **ética**\n",
    "\n",
    "<img src=\"images/thanks.jpg\" width=\"500\"/>    "
   ]
  }
 ],
 "metadata": {
  "celltoolbar": "Slideshow",
  "kernelspec": {
   "display_name": "Python 3",
   "language": "python",
   "name": "python3"
  },
  "language_info": {
   "codemirror_mode": {
    "name": "ipython",
    "version": 3
   },
   "file_extension": ".py",
   "mimetype": "text/x-python",
   "name": "python",
   "nbconvert_exporter": "python",
   "pygments_lexer": "ipython3",
   "version": "3.7.6"
  },
  "nbpresent": {
   "slides": {
    "7f242b9d-99db-4820-9224-1940306010e1": {
     "id": "7f242b9d-99db-4820-9224-1940306010e1",
     "prev": "b5b2f9a1-71c7-4a8c-8449-99d1d43ea979",
     "regions": {
      "dc5f27e0-7d6a-4f24-9216-d7b6fda424bc": {
       "attrs": {
        "height": 0.8,
        "width": 0.8,
        "x": 0.1,
        "y": 0.1
       },
       "content": {
        "cell": "c03a1e0a-7216-4153-b942-9bf744018b38",
        "part": "whole"
       },
       "id": "dc5f27e0-7d6a-4f24-9216-d7b6fda424bc"
      }
     }
    },
    "84a7b934-f637-4a9c-b526-69786196c099": {
     "id": "84a7b934-f637-4a9c-b526-69786196c099",
     "prev": "7f242b9d-99db-4820-9224-1940306010e1",
     "regions": {
      "6d19c0dc-8cf3-4741-8923-010d6b872f4c": {
       "attrs": {
        "height": 0.8,
        "width": 0.8,
        "x": 0.1,
        "y": 0.1
       },
       "content": {
        "cell": "c77c2be8-60c8-4b42-9dc4-d71498a3a9ab",
        "part": "whole"
       },
       "id": "6d19c0dc-8cf3-4741-8923-010d6b872f4c"
      }
     }
    },
    "9117909e-8a9c-45ff-9a20-cf93b75b700c": {
     "id": "9117909e-8a9c-45ff-9a20-cf93b75b700c",
     "prev": "a42dff4d-9d8e-40d0-b4be-c48ed4f73845",
     "regions": {
      "aaf0281b-7a95-477e-9020-2ff151a08c6f": {
       "attrs": {
        "height": 0.8,
        "width": 0.8,
        "x": 0.1,
        "y": 0.1
       },
       "content": {
        "cell": "edfae9bc-3c4d-43b6-9254-d58e68dd226c",
        "part": "whole"
       },
       "id": "aaf0281b-7a95-477e-9020-2ff151a08c6f"
      }
     }
    },
    "a42dff4d-9d8e-40d0-b4be-c48ed4f73845": {
     "id": "a42dff4d-9d8e-40d0-b4be-c48ed4f73845",
     "prev": "a4c9baca-c166-4ad9-bf37-34b5c6dbac9d",
     "regions": {
      "c3d5d2fe-17c5-42af-81ab-3a0373373f29": {
       "attrs": {
        "height": 0.8,
        "width": 0.8,
        "x": 0.1,
        "y": 0.1
       },
       "content": {
        "cell": "ac8bea6c-33c4-44b3-a447-5383ca3cd615",
        "part": "whole"
       },
       "id": "c3d5d2fe-17c5-42af-81ab-3a0373373f29"
      }
     }
    },
    "a4c9baca-c166-4ad9-bf37-34b5c6dbac9d": {
     "id": "a4c9baca-c166-4ad9-bf37-34b5c6dbac9d",
     "prev": "d281b63f-89a5-4a4a-b516-8352f40d2591",
     "regions": {
      "23ccdb2f-68be-4537-86cb-d94232475bf3": {
       "attrs": {
        "height": 0.8,
        "width": 0.8,
        "x": 0.1,
        "y": 0.1
       },
       "content": {
        "cell": "08ff9e7b-7d21-4c27-97e0-f87b618c4033",
        "part": "whole"
       },
       "id": "23ccdb2f-68be-4537-86cb-d94232475bf3"
      }
     }
    },
    "acf0e45e-1534-478f-8b7a-32227ea62e92": {
     "id": "acf0e45e-1534-478f-8b7a-32227ea62e92",
     "prev": "9117909e-8a9c-45ff-9a20-cf93b75b700c",
     "regions": {
      "3fb838cd-c496-4857-8e4d-68e1eda403bf": {
       "attrs": {
        "height": 0.8,
        "width": 0.8,
        "x": 0.1,
        "y": 0.1
       },
       "content": {
        "cell": "8c2f151b-5c64-4958-a3c5-b0f405bc6d6d",
        "part": "whole"
       },
       "id": "3fb838cd-c496-4857-8e4d-68e1eda403bf"
      }
     }
    },
    "b5b2f9a1-71c7-4a8c-8449-99d1d43ea979": {
     "id": "b5b2f9a1-71c7-4a8c-8449-99d1d43ea979",
     "prev": null,
     "regions": {
      "2505cf6d-d330-44bd-930d-b4ee7e2b0934": {
       "attrs": {
        "height": 0.8,
        "width": 0.8,
        "x": 0.1,
        "y": 0.1
       },
       "content": {
        "cell": "a3a55243-7a8b-471b-a752-2198cdb1b0db",
        "part": "whole"
       },
       "id": "2505cf6d-d330-44bd-930d-b4ee7e2b0934"
      }
     }
    },
    "d281b63f-89a5-4a4a-b516-8352f40d2591": {
     "id": "d281b63f-89a5-4a4a-b516-8352f40d2591",
     "prev": "84a7b934-f637-4a9c-b526-69786196c099",
     "regions": {
      "5d2eff4d-ae77-4a2d-a4e2-e6ca74812eaf": {
       "attrs": {
        "height": 0.8,
        "width": 0.8,
        "x": 0.1,
        "y": 0.1
       },
       "content": null,
       "id": "5d2eff4d-ae77-4a2d-a4e2-e6ca74812eaf"
      }
     }
    }
   },
   "themes": {}
  }
 },
 "nbformat": 4,
 "nbformat_minor": 2
}
